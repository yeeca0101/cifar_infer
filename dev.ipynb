{
 "cells": [
  {
   "cell_type": "code",
   "execution_count": 1,
   "metadata": {},
   "outputs": [],
   "source": [
    "import sys\n",
    "sys.path.append('../')\n",
    "import torch\n",
    "from torch import nn\n",
    "from models.resnet import ResNet18\n",
    "from models.swin_transformer import Swin_transformer\n",
    "\n",
    "# external\n",
    "from experiments.activation.acts import *\n",
    "from experiments.util.utils import *\n",
    "\n"
   ]
  },
  {
   "cell_type": "markdown",
   "metadata": {},
   "source": [
    "resnet\n",
    "    batch 128\n",
    "    lr 0.1\n",
    "    "
   ]
  },
  {
   "cell_type": "code",
   "execution_count": 2,
   "metadata": {},
   "outputs": [
    {
     "ename": "FileNotFoundError",
     "evalue": "[Errno 2] No such file or directory: './checkpoint/ckpt_resnet18_SiLU.pth'",
     "output_type": "error",
     "traceback": [
      "\u001b[0;31m---------------------------------------------------------------------------\u001b[0m",
      "\u001b[0;31mFileNotFoundError\u001b[0m                         Traceback (most recent call last)",
      "Cell \u001b[0;32mIn[2], line 3\u001b[0m\n\u001b[1;32m      1\u001b[0m \u001b[38;5;66;03m# cifar10 , resnet18, SiLU\u001b[39;00m\n\u001b[1;32m      2\u001b[0m resnet \u001b[38;5;241m=\u001b[39m ResNet18(\u001b[38;5;241m10\u001b[39m,act\u001b[38;5;241m=\u001b[39mSiLU())\n\u001b[0;32m----> 3\u001b[0m state_dict \u001b[38;5;241m=\u001b[39m \u001b[43mtorch\u001b[49m\u001b[38;5;241;43m.\u001b[39;49m\u001b[43mload\u001b[49m\u001b[43m(\u001b[49m\u001b[38;5;124;43m'\u001b[39;49m\u001b[38;5;124;43m./checkpoint/ckpt_resnet18_SiLU.pth\u001b[39;49m\u001b[38;5;124;43m'\u001b[39;49m\u001b[43m)\u001b[49m\n\u001b[1;32m      4\u001b[0m resnet\u001b[38;5;241m.\u001b[39mload_state_dict(state_dict[\u001b[38;5;124m'\u001b[39m\u001b[38;5;124mnet\u001b[39m\u001b[38;5;124m'\u001b[39m])\n\u001b[1;32m      5\u001b[0m print_act_p(resnet)\n",
      "File \u001b[0;32m/usr/local/lib/python3.10/dist-packages/torch/serialization.py:791\u001b[0m, in \u001b[0;36mload\u001b[0;34m(f, map_location, pickle_module, weights_only, **pickle_load_args)\u001b[0m\n\u001b[1;32m    788\u001b[0m \u001b[38;5;28;01mif\u001b[39;00m \u001b[38;5;124m'\u001b[39m\u001b[38;5;124mencoding\u001b[39m\u001b[38;5;124m'\u001b[39m \u001b[38;5;129;01mnot\u001b[39;00m \u001b[38;5;129;01min\u001b[39;00m pickle_load_args\u001b[38;5;241m.\u001b[39mkeys():\n\u001b[1;32m    789\u001b[0m     pickle_load_args[\u001b[38;5;124m'\u001b[39m\u001b[38;5;124mencoding\u001b[39m\u001b[38;5;124m'\u001b[39m] \u001b[38;5;241m=\u001b[39m \u001b[38;5;124m'\u001b[39m\u001b[38;5;124mutf-8\u001b[39m\u001b[38;5;124m'\u001b[39m\n\u001b[0;32m--> 791\u001b[0m \u001b[38;5;28;01mwith\u001b[39;00m \u001b[43m_open_file_like\u001b[49m\u001b[43m(\u001b[49m\u001b[43mf\u001b[49m\u001b[43m,\u001b[49m\u001b[43m \u001b[49m\u001b[38;5;124;43m'\u001b[39;49m\u001b[38;5;124;43mrb\u001b[39;49m\u001b[38;5;124;43m'\u001b[39;49m\u001b[43m)\u001b[49m \u001b[38;5;28;01mas\u001b[39;00m opened_file:\n\u001b[1;32m    792\u001b[0m     \u001b[38;5;28;01mif\u001b[39;00m _is_zipfile(opened_file):\n\u001b[1;32m    793\u001b[0m         \u001b[38;5;66;03m# The zipfile reader is going to advance the current file position.\u001b[39;00m\n\u001b[1;32m    794\u001b[0m         \u001b[38;5;66;03m# If we want to actually tail call to torch.jit.load, we need to\u001b[39;00m\n\u001b[1;32m    795\u001b[0m         \u001b[38;5;66;03m# reset back to the original position.\u001b[39;00m\n\u001b[1;32m    796\u001b[0m         orig_position \u001b[38;5;241m=\u001b[39m opened_file\u001b[38;5;241m.\u001b[39mtell()\n",
      "File \u001b[0;32m/usr/local/lib/python3.10/dist-packages/torch/serialization.py:271\u001b[0m, in \u001b[0;36m_open_file_like\u001b[0;34m(name_or_buffer, mode)\u001b[0m\n\u001b[1;32m    269\u001b[0m \u001b[38;5;28;01mdef\u001b[39;00m \u001b[38;5;21m_open_file_like\u001b[39m(name_or_buffer, mode):\n\u001b[1;32m    270\u001b[0m     \u001b[38;5;28;01mif\u001b[39;00m _is_path(name_or_buffer):\n\u001b[0;32m--> 271\u001b[0m         \u001b[38;5;28;01mreturn\u001b[39;00m \u001b[43m_open_file\u001b[49m\u001b[43m(\u001b[49m\u001b[43mname_or_buffer\u001b[49m\u001b[43m,\u001b[49m\u001b[43m \u001b[49m\u001b[43mmode\u001b[49m\u001b[43m)\u001b[49m\n\u001b[1;32m    272\u001b[0m     \u001b[38;5;28;01melse\u001b[39;00m:\n\u001b[1;32m    273\u001b[0m         \u001b[38;5;28;01mif\u001b[39;00m \u001b[38;5;124m'\u001b[39m\u001b[38;5;124mw\u001b[39m\u001b[38;5;124m'\u001b[39m \u001b[38;5;129;01min\u001b[39;00m mode:\n",
      "File \u001b[0;32m/usr/local/lib/python3.10/dist-packages/torch/serialization.py:252\u001b[0m, in \u001b[0;36m_open_file.__init__\u001b[0;34m(self, name, mode)\u001b[0m\n\u001b[1;32m    251\u001b[0m \u001b[38;5;28;01mdef\u001b[39;00m \u001b[38;5;21m__init__\u001b[39m(\u001b[38;5;28mself\u001b[39m, name, mode):\n\u001b[0;32m--> 252\u001b[0m     \u001b[38;5;28msuper\u001b[39m()\u001b[38;5;241m.\u001b[39m\u001b[38;5;21m__init__\u001b[39m(\u001b[38;5;28;43mopen\u001b[39;49m\u001b[43m(\u001b[49m\u001b[43mname\u001b[49m\u001b[43m,\u001b[49m\u001b[43m \u001b[49m\u001b[43mmode\u001b[49m\u001b[43m)\u001b[49m)\n",
      "\u001b[0;31mFileNotFoundError\u001b[0m: [Errno 2] No such file or directory: './checkpoint/ckpt_resnet18_SiLU.pth'"
     ]
    }
   ],
   "source": [
    "# cifar10 , resnet18, SiLU\n",
    "resnet = ResNet18(10,act=SiLU())\n",
    "state_dict = torch.load('./checkpoint/ckpt_resnet18_SiLU.pth')\n",
    "resnet.load_state_dict(state_dict['net'])\n",
    "print_act_p(resnet)\n",
    "print(state_dict['acc'])\n",
    "print(state_dict['epoch'])"
   ]
  },
  {
   "cell_type": "code",
   "execution_count": 12,
   "metadata": {},
   "outputs": [
    {
     "name": "stdout",
     "output_type": "stream",
     "text": [
      "ResNet\n",
      "total params : 11173962\n",
      "ReLU param : {}\n",
      "best acc: 95.43\n",
      "best ep : 197\n"
     ]
    }
   ],
   "source": [
    "# cifar10 , resnet18, Swish\n",
    "resnet = ResNet18(10,act=nn.ReLU())\n",
    "\n",
    "print_results(resnet,'./checkpoint/ckpt_resnet18_ReLU.pth')"
   ]
  },
  {
   "cell_type": "code",
   "execution_count": 10,
   "metadata": {},
   "outputs": [
    {
     "name": "stdout",
     "output_type": "stream",
     "text": [
      "{}\n",
      "76.72\n",
      "199\n"
     ]
    }
   ],
   "source": [
    "# cifar10 , resnet18, Swish\n",
    "resnet = ResNet18(100,act=Mish())\n",
    "state_dict = torch.load('./checkpoint/ckpt_resnet18_cifar100_Mish.pth')\n",
    "resnet.load_state_dict(state_dict['net'])\n",
    "print_act_p(resnet)\n",
    "print(state_dict['acc'])\n",
    "print(state_dict['epoch'])"
   ]
  },
  {
   "cell_type": "code",
   "execution_count": 5,
   "metadata": {},
   "outputs": [
    {
     "name": "stdout",
     "output_type": "stream",
     "text": [
      "92.79\n",
      "194\n"
     ]
    }
   ],
   "source": [
    "# cifar10 , resnet18, Swish\n",
    "resnet = ResNet18(10,act=nn.ELU())\n",
    "state_dict = torch.load('./checkpoint/ckpt_resnet18_ELU.pth')\n",
    "resnet.load_state_dict(state_dict['net'])\n",
    "print_act_p(resnet)\n",
    "print(state_dict['acc'])\n",
    "print(state_dict['epoch'])"
   ]
  },
  {
   "cell_type": "code",
   "execution_count": 8,
   "metadata": {},
   "outputs": [
    {
     "name": "stdout",
     "output_type": "stream",
     "text": [
      "Parameter containing:\n",
      "tensor([5.6681], requires_grad=True)\n",
      "78.1\n",
      "190\n"
     ]
    }
   ],
   "source": [
    "# cifar10 , resnet18, ASN\n",
    "resnet = ResNet18(100,act=ASN())\n",
    "state_dict = torch.load('./checkpoint/ckpt_resnet18_cifar100_ASN.pth')\n",
    "resnet.load_state_dict(state_dict['net'])\n",
    "print_act_p(resnet)\n",
    "print(state_dict['acc'])\n",
    "print(state_dict['epoch'])"
   ]
  },
  {
   "cell_type": "code",
   "execution_count": null,
   "metadata": {},
   "outputs": [],
   "source": []
  },
  {
   "cell_type": "code",
   "execution_count": 3,
   "metadata": {},
   "outputs": [
    {
     "name": "stdout",
     "output_type": "stream",
     "text": [
      "Parameter containing:\n",
      "tensor([5.9302], requires_grad=True)\n",
      "95.35\n",
      "179\n"
     ]
    }
   ],
   "source": [
    "# cifar10 , resnet18, Swish\n",
    "resnet = ResNet18(10,act=Swish())\n",
    "state_dict = torch.load('./checkpoint/ckpt_resnet18_Swish.pth')\n",
    "resnet.load_state_dict(state_dict['net'])\n",
    "print_act_p(resnet)\n",
    "print(state_dict['acc'])\n",
    "print(state_dict['epoch'])"
   ]
  },
  {
   "cell_type": "code",
   "execution_count": 6,
   "metadata": {},
   "outputs": [
    {
     "name": "stdout",
     "output_type": "stream",
     "text": [
      "94.17\n",
      "182\n"
     ]
    }
   ],
   "source": [
    "resnet = ResNet18(10,act=Mish())\n",
    "state_dict = torch.load('./checkpoint/ckpt_resnet18_Mish_94.08.pth')\n",
    "resnet.load_state_dict(state_dict['net'])\n",
    "print_act_p(resnet)\n",
    "print(state_dict['acc'])\n",
    "print(state_dict['epoch'])"
   ]
  },
  {
   "cell_type": "code",
   "execution_count": 20,
   "metadata": {},
   "outputs": [
    {
     "name": "stdout",
     "output_type": "stream",
     "text": [
      "Parameter containing:\n",
      "tensor([-6.7338], requires_grad=True)\n",
      "95.44\n",
      "177\n"
     ]
    }
   ],
   "source": [
    "# cifar10 , resnet18, ASN\n",
    "\n",
    "resnet = ResNet18(10,act=ASN())\n",
    "state_dict = torch.load('./checkpoint/ckpt_resnet18_asn_177_95.44.pth')\n",
    "resnet.load_state_dict(state_dict['net'])\n",
    "print_act_p(resnet)\n",
    "print(state_dict['acc'])\n",
    "print(state_dict['epoch'])"
   ]
  },
  {
   "cell_type": "code",
   "execution_count": 3,
   "metadata": {},
   "outputs": [
    {
     "name": "stdout",
     "output_type": "stream",
     "text": [
      "Parameter containing:\n",
      "tensor([-6.6251], requires_grad=True)\n",
      "95.53\n",
      "184\n"
     ]
    }
   ],
   "source": [
    "# cifar10 , resnet18, SiluT\n",
    "\n",
    "resnet = ResNet18(10,act=SliuT())\n",
    "state_dict = torch.load('./checkpoint/ckpt_resnet18_SliuT_95.37.pth')\n",
    "resnet.load_state_dict(state_dict['net'])\n",
    "print_act_p(resnet)\n",
    "print(state_dict['acc'])\n",
    "print(state_dict['epoch'])"
   ]
  },
  {
   "cell_type": "code",
   "execution_count": 21,
   "metadata": {},
   "outputs": [
    {
     "name": "stdout",
     "output_type": "stream",
     "text": [
      "Parameter containing:\n",
      "tensor([5.9771], requires_grad=True)\n",
      "95.27\n",
      "171\n"
     ]
    }
   ],
   "source": [
    "# cifar10 , resnet18, sASN\n",
    "\n",
    "resnet = ResNet18(10,act=sASN())\n",
    "state_dict = torch.load('./checkpoint/ckpt_resnet18_sasn_177_95.18.pth')\n",
    "resnet.load_state_dict(state_dict['net'])\n",
    "print_act_p(resnet)\n",
    "print(state_dict['acc'])\n",
    "print(state_dict['epoch'])"
   ]
  },
  {
   "cell_type": "code",
   "execution_count": 22,
   "metadata": {},
   "outputs": [
    {
     "name": "stdout",
     "output_type": "stream",
     "text": [
      "94.63\n",
      "177\n"
     ]
    }
   ],
   "source": [
    "# cifar10 , resnet18, Relu\n",
    "\n",
    "resnet = ResNet18(10,act=nn.ReLU())\n",
    "state_dict = torch.load('./checkpoint/ckpt_resnet18_relu_177_94.63.pth')\n",
    "resnet.load_state_dict(state_dict['net'])\n",
    "print_act_p(resnet)\n",
    "print(state_dict['acc'])\n",
    "print(state_dict['epoch'])"
   ]
  },
  {
   "cell_type": "code",
   "execution_count": 23,
   "metadata": {},
   "outputs": [
    {
     "name": "stdout",
     "output_type": "stream",
     "text": [
      "95.05\n",
      "199\n"
     ]
    }
   ],
   "source": [
    "# cifar10 , resnet18, gelu\n",
    "\n",
    "resnet = ResNet18(10,act=nn.GELU())\n",
    "state_dict = torch.load('./checkpoint/ckpt_resnet18_GELU_199_95.05.pth')\n",
    "resnet.load_state_dict(state_dict['net'])\n",
    "print_act_p(resnet)\n",
    "print(state_dict['acc'])\n",
    "print(state_dict['epoch'])"
   ]
  },
  {
   "cell_type": "code",
   "execution_count": null,
   "metadata": {},
   "outputs": [],
   "source": [
    "# cifar10 , resnet18, Relu\n",
    "\n",
    "resnet = ResNet18(10,act=nn.ReLU())\n",
    "state_dict = torch.load('./checkpoint/ckpt_resnet18_relu_177_94.63.pth')\n",
    "resnet.load_state_dict(state_dict['net'])\n",
    "print_act_p(resnet)\n",
    "print(state_dict['acc'])\n",
    "print(state_dict['epoch'])"
   ]
  },
  {
   "cell_type": "code",
   "execution_count": 9,
   "metadata": {},
   "outputs": [
    {
     "name": "stdout",
     "output_type": "stream",
     "text": [
      "Parameter containing:\n",
      "tensor([6.4185], requires_grad=True)\n"
     ]
    }
   ],
   "source": [
    "# cifar100 , resnet18, sASN\n",
    "\n",
    "resnet = ResNet18(100)\n",
    "resnet.load_state_dict(torch.load('./checkpoint/ckpt_resnet18_cifar100_sasn_199_79.59.pth')['net'])\n",
    "print_act_p(resnet)"
   ]
  },
  {
   "cell_type": "code",
   "execution_count": 12,
   "metadata": {},
   "outputs": [
    {
     "name": "stdout",
     "output_type": "stream",
     "text": [
      "Parameter containing:\n",
      "tensor([-6.7338], requires_grad=True)\n"
     ]
    }
   ],
   "source": [
    "# cifar10 , resnet18, ASN\n",
    "\n",
    "resnet = ResNet18(10)\n",
    "resnet.load_state_dict(torch.load('./checkpoint/ckpt_resnet18_asn_177_95.44.pth')['net'])\n",
    "print_act_p(resnet)"
   ]
  },
  {
   "cell_type": "code",
   "execution_count": 10,
   "metadata": {},
   "outputs": [
    {
     "name": "stdout",
     "output_type": "stream",
     "text": [
      "Parameter containing:\n",
      "tensor([5.6681], requires_grad=True)\n",
      "78.1\n",
      "190\n"
     ]
    }
   ],
   "source": [
    "# cifar10 , resnet18, ASN\n",
    "resnet = ResNet18(100,act=ASN())\n",
    "state_dict = torch.load('./checkpoint/ckpt_resnet18_cifar100_ASN_78.10.pth')\n",
    "resnet.load_state_dict(state_dict['net'])\n",
    "print_act_p(resnet)\n",
    "print(state_dict['acc'])\n",
    "print(state_dict['epoch'])"
   ]
  },
  {
   "cell_type": "code",
   "execution_count": 5,
   "metadata": {},
   "outputs": [
    {
     "name": "stdout",
     "output_type": "stream",
     "text": [
      "Parameter containing:\n",
      "tensor([6.4185], requires_grad=True)\n",
      "79.68\n",
      "194\n"
     ]
    }
   ],
   "source": [
    "# cifar100 , resnet18, SwishT\n",
    "\n",
    "resnet = ResNet18(100,act=SwishT())\n",
    "state_dict = torch.load('./checkpoint/ckpt_resnet18_cifar100_sasn_199_79.59.pth')\n",
    "resnet.load_state_dict(state_dict['net'])\n",
    "print_act_p(resnet)\n",
    "print(state_dict['acc'])\n",
    "print(state_dict['epoch'])"
   ]
  },
  {
   "cell_type": "code",
   "execution_count": 11,
   "metadata": {},
   "outputs": [
    {
     "name": "stdout",
     "output_type": "stream",
     "text": [
      "77.03\n",
      "190\n"
     ]
    }
   ],
   "source": [
    "# cifar10 , resnet18, ASN\n",
    "resnet = ResNet18(100,act=Mish())\n",
    "state_dict = torch.load('./checkpoint/ckpt_resnet18_cifar100_Mish.pth')\n",
    "resnet.load_state_dict(state_dict['net'])\n",
    "print_act_p(resnet)\n",
    "print(state_dict['acc'])\n",
    "print(state_dict['epoch'])"
   ]
  },
  {
   "cell_type": "code",
   "execution_count": 14,
   "metadata": {},
   "outputs": [
    {
     "name": "stdout",
     "output_type": "stream",
     "text": [
      "Parameter containing:\n",
      "tensor([5.9771], requires_grad=True)\n"
     ]
    }
   ],
   "source": [
    "# cifar10 , resnet18, sASN=swisht\n",
    "\n",
    "resnet = ResNet18(10)\n",
    "resnet.load_state_dict(torch.load('./checkpoint/ckpt_resnet18_sasn_177_95.18.pth')['net'])\n",
    "print_act_p(resnet)"
   ]
  },
  {
   "cell_type": "code",
   "execution_count": 1,
   "metadata": {},
   "outputs": [
    {
     "ename": "NameError",
     "evalue": "name 'ResNet18' is not defined",
     "output_type": "error",
     "traceback": [
      "\u001b[0;31m---------------------------------------------------------------------------\u001b[0m",
      "\u001b[0;31mNameError\u001b[0m                                 Traceback (most recent call last)",
      "Cell \u001b[0;32mIn[1], line 3\u001b[0m\n\u001b[1;32m      1\u001b[0m \u001b[38;5;66;03m# cifar10 , resnet18, Swish\u001b[39;00m\n\u001b[0;32m----> 3\u001b[0m resnet \u001b[38;5;241m=\u001b[39m \u001b[43mResNet18\u001b[49m(\u001b[38;5;241m10\u001b[39m)\n\u001b[1;32m      4\u001b[0m resnet\u001b[38;5;241m.\u001b[39mload_state_dict(torch\u001b[38;5;241m.\u001b[39mload(\u001b[38;5;124m'\u001b[39m\u001b[38;5;124m./checkpoint/ckpt_resnet18_Swish.pth\u001b[39m\u001b[38;5;124m'\u001b[39m)[\u001b[38;5;124m'\u001b[39m\u001b[38;5;124mnet\u001b[39m\u001b[38;5;124m'\u001b[39m])\n\u001b[1;32m      5\u001b[0m print_act_p(resnet)\n",
      "\u001b[0;31mNameError\u001b[0m: name 'ResNet18' is not defined"
     ]
    }
   ],
   "source": [
    "# cifar10 , resnet18, Swish\n",
    "\n",
    "resnet = ResNet18(10)\n",
    "resnet.load_state_dict(torch.load('./checkpoint/ckpt_resnet18_Swish.pth')['net'])\n",
    "print_act_p(resnet)"
   ]
  },
  {
   "cell_type": "code",
   "execution_count": 8,
   "metadata": {},
   "outputs": [
    {
     "name": "stdout",
     "output_type": "stream",
     "text": [
      "76.74\n",
      "199\n"
     ]
    }
   ],
   "source": [
    "# cifar100 , resnet18, SiLU\n",
    "\n",
    "resnet = ResNet18(100,act=SiLU())\n",
    "state_dict = torch.load('./checkpoint/ckpt_resnet18_cifar100_SiLU_199_76.74.pth')\n",
    "resnet.load_state_dict(state_dict['net'])\n",
    "print_act_p(resnet)\n",
    "print(state_dict['acc'])\n",
    "print(state_dict['epoch'])"
   ]
  },
  {
   "cell_type": "code",
   "execution_count": 12,
   "metadata": {},
   "outputs": [
    {
     "name": "stdout",
     "output_type": "stream",
     "text": [
      "Parameter containing:\n",
      "tensor([6.4133], requires_grad=True)\n",
      "78.13\n",
      "193\n"
     ]
    }
   ],
   "source": [
    "# cifar100 , resnet18, SiLU\n",
    "\n",
    "resnet = ResNet18(100,act=Swish())\n",
    "state_dict = torch.load('./checkpoint/ckpt_resnet18_cifar100_Swish_199_77.92.pth')\n",
    "resnet.load_state_dict(state_dict['net'])\n",
    "print_act_p(resnet)\n",
    "print(state_dict['acc'])\n",
    "print(state_dict['epoch'])"
   ]
  },
  {
   "cell_type": "code",
   "execution_count": 15,
   "metadata": {},
   "outputs": [
    {
     "name": "stdout",
     "output_type": "stream",
     "text": [
      "Parameter containing:\n",
      "tensor([-6.1995], requires_grad=True)\n",
      "94.3\n",
      "162\n"
     ]
    }
   ],
   "source": [
    "# cifar100 , resnet18, SwishT\n",
    "\n",
    "resnet = ResNet18(10,act=SwishT())\n",
    "state_dict = torch.load('./checkpoint/ckpt_resnet18_cifar100_SwishT.pth')\n",
    "resnet.load_state_dict(state_dict['net'])\n",
    "print_act_p(resnet)\n",
    "print(state_dict['acc'])\n",
    "print(state_dict['epoch'])"
   ]
  },
  {
   "cell_type": "code",
   "execution_count": 15,
   "metadata": {},
   "outputs": [
    {
     "name": "stdout",
     "output_type": "stream",
     "text": [
      "Parameter containing:\n",
      "tensor([5.5985], requires_grad=True)\n",
      "77.09\n",
      "198\n"
     ]
    }
   ],
   "source": [
    "# cifar100 , resnet18, SwishT\n",
    "\n",
    "resnet = ResNet18(100,act=Swish())\n",
    "state_dict = torch.load('./checkpoint/ckpt_resnet18_cifar100_gelu_199_76.87.pth')\n",
    "resnet.load_state_dict(state_dict['net'])\n",
    "print_act_p(resnet)\n",
    "print(state_dict['acc'])\n",
    "print(state_dict['epoch'])"
   ]
  },
  {
   "cell_type": "code",
   "execution_count": 4,
   "metadata": {},
   "outputs": [
    {
     "name": "stdout",
     "output_type": "stream",
     "text": [
      "Parameter containing:\n",
      "tensor([6.4185], requires_grad=True)\n",
      "79.68\n",
      "194\n"
     ]
    }
   ],
   "source": [
    "# cifar100 , resnet18, SwishT\n",
    "\n",
    "resnet = ResNet18(100,act=SwishT())\n",
    "state_dict = torch.load('./checkpoint/ckpt_resnet18_cifar100_sasn_199_79.59.pth')\n",
    "resnet.load_state_dict(state_dict['net'])\n",
    "print_act_p(resnet)\n",
    "print(state_dict['acc'])\n",
    "print(state_dict['epoch'])"
   ]
  },
  {
   "cell_type": "code",
   "execution_count": 3,
   "metadata": {},
   "outputs": [
    {
     "name": "stdout",
     "output_type": "stream",
     "text": [
      "Parameter containing:\n",
      "tensor([-7.1654], requires_grad=True)\n",
      "77.72\n",
      "193\n"
     ]
    }
   ],
   "source": [
    "# cifar100 , resnet18, SliuT\n",
    "\n",
    "resnet = ResNet18(100,act=SliuT())\n",
    "state_dict = torch.load('./checkpoint/ckpt_resnet18_cifar100_SliuT.pth')\n",
    "resnet.load_state_dict(state_dict['net'])\n",
    "print_act_p(resnet)\n",
    "print(state_dict['acc'])\n",
    "print(state_dict['epoch'])"
   ]
  },
  {
   "cell_type": "code",
   "execution_count": 13,
   "metadata": {},
   "outputs": [
    {
     "name": "stdout",
     "output_type": "stream",
     "text": [
      "n_classes: 100 img_size: 32 act: SwishT()\n"
     ]
    },
    {
     "ename": "NameError",
     "evalue": "name 'sASN' is not defined",
     "output_type": "error",
     "traceback": [
      "\u001b[0;31m---------------------------------------------------------------------------\u001b[0m",
      "\u001b[0;31mNameError\u001b[0m                                 Traceback (most recent call last)",
      "Cell \u001b[0;32mIn[13], line 3\u001b[0m\n\u001b[1;32m      1\u001b[0m \u001b[38;5;66;03m# cifar100 , swin, sASN\u001b[39;00m\n\u001b[0;32m----> 3\u001b[0m swin,_ \u001b[38;5;241m=\u001b[39m \u001b[43mSwin_transformer\u001b[49m\u001b[43m(\u001b[49m\u001b[43mnum_classes\u001b[49m\u001b[38;5;241;43m=\u001b[39;49m\u001b[38;5;241;43m100\u001b[39;49m\u001b[43m,\u001b[49m\u001b[43mimage_size\u001b[49m\u001b[38;5;241;43m=\u001b[39;49m\u001b[38;5;241;43m32\u001b[39;49m\u001b[43m,\u001b[49m\u001b[43mact\u001b[49m\u001b[38;5;241;43m=\u001b[39;49m\u001b[43mSwishT\u001b[49m\u001b[43m(\u001b[49m\u001b[43m)\u001b[49m\u001b[43m)\u001b[49m\n\u001b[1;32m      4\u001b[0m state_dict \u001b[38;5;241m=\u001b[39m torch\u001b[38;5;241m.\u001b[39mload(\u001b[38;5;124m'\u001b[39m\u001b[38;5;124m./checkpoint/ckpt_swin_sasn_199_65.91.pth\u001b[39m\u001b[38;5;124m'\u001b[39m)\n\u001b[1;32m      5\u001b[0m swin\u001b[38;5;241m.\u001b[39mload_state_dict(state_dict[\u001b[38;5;124m'\u001b[39m\u001b[38;5;124mnet\u001b[39m\u001b[38;5;124m'\u001b[39m])\n",
      "File \u001b[0;32m/workspace/pytorch-cifar/models/swin_transformer.py:352\u001b[0m, in \u001b[0;36mSwin_transformer\u001b[0;34m(num_classes, image_size, act)\u001b[0m\n\u001b[1;32m    346\u001b[0m model \u001b[38;5;241m=\u001b[39m SwinTransformer(num_classes, image_size,\n\u001b[1;32m    347\u001b[0m                     num_blocks_list\u001b[38;5;241m=\u001b[39m[\u001b[38;5;241m4\u001b[39m, \u001b[38;5;241m4\u001b[39m], dims\u001b[38;5;241m=\u001b[39m[\u001b[38;5;241m128\u001b[39m, \u001b[38;5;241m128\u001b[39m, \u001b[38;5;241m256\u001b[39m],\n\u001b[1;32m    348\u001b[0m                     head_dim\u001b[38;5;241m=\u001b[39m\u001b[38;5;241m32\u001b[39m, patch_size\u001b[38;5;241m=\u001b[39m\u001b[38;5;241m2\u001b[39m, window_size\u001b[38;5;241m=\u001b[39m\u001b[38;5;241m4\u001b[39m,\n\u001b[1;32m    349\u001b[0m                     emb_p_drop\u001b[38;5;241m=\u001b[39m\u001b[38;5;241m0.\u001b[39m, trans_p_drop\u001b[38;5;241m=\u001b[39m\u001b[38;5;241m0.\u001b[39m, head_p_drop\u001b[38;5;241m=\u001b[39m\u001b[38;5;241m0.3\u001b[39m,\n\u001b[1;32m    350\u001b[0m                     act\u001b[38;5;241m=\u001b[39mact)\n\u001b[1;32m    351\u001b[0m \u001b[38;5;28mprint\u001b[39m(\u001b[38;5;124m'\u001b[39m\u001b[38;5;124mn_classes:\u001b[39m\u001b[38;5;124m'\u001b[39m,num_classes,\u001b[38;5;124m'\u001b[39m\u001b[38;5;124mimg_size:\u001b[39m\u001b[38;5;124m'\u001b[39m,image_size,\u001b[38;5;124m'\u001b[39m\u001b[38;5;124mact:\u001b[39m\u001b[38;5;124m'\u001b[39m,act)\n\u001b[0;32m--> 352\u001b[0m optimizer \u001b[38;5;241m=\u001b[39m \u001b[43mget_optimizer\u001b[49m\u001b[43m(\u001b[49m\u001b[43mmodel\u001b[49m\u001b[43m,\u001b[49m\u001b[43m \u001b[49m\u001b[43mlearning_rate\u001b[49m\u001b[38;5;241;43m=\u001b[39;49m\u001b[43mLEARNING_RATE\u001b[49m\u001b[43m,\u001b[49m\u001b[43m \u001b[49m\u001b[43mweight_decay\u001b[49m\u001b[38;5;241;43m=\u001b[39;49m\u001b[43mWEIGHT_DECAY\u001b[49m\u001b[43m)\u001b[49m\n\u001b[1;32m    354\u001b[0m \u001b[38;5;28;01mreturn\u001b[39;00m model,optimizer\n",
      "File \u001b[0;32m/workspace/pytorch-cifar/models/swin_transformer.py:333\u001b[0m, in \u001b[0;36mget_optimizer\u001b[0;34m(model, learning_rate, weight_decay)\u001b[0m\n\u001b[1;32m    331\u001b[0m \u001b[38;5;28;01mdef\u001b[39;00m \u001b[38;5;21mget_optimizer\u001b[39m(model, learning_rate, weight_decay):\n\u001b[1;32m    332\u001b[0m     param_dict \u001b[38;5;241m=\u001b[39m {pn: p \u001b[38;5;28;01mfor\u001b[39;00m pn, p \u001b[38;5;129;01min\u001b[39;00m model\u001b[38;5;241m.\u001b[39mnamed_parameters()}\n\u001b[0;32m--> 333\u001b[0m     parameters_decay, parameters_no_decay \u001b[38;5;241m=\u001b[39m \u001b[43mmodel\u001b[49m\u001b[38;5;241;43m.\u001b[39;49m\u001b[43mseparate_parameters\u001b[49m\u001b[43m(\u001b[49m\u001b[43m)\u001b[49m\n\u001b[1;32m    335\u001b[0m     optim_groups \u001b[38;5;241m=\u001b[39m [\n\u001b[1;32m    336\u001b[0m         {\u001b[38;5;124m\"\u001b[39m\u001b[38;5;124mparams\u001b[39m\u001b[38;5;124m\"\u001b[39m: [param_dict[pn] \u001b[38;5;28;01mfor\u001b[39;00m pn \u001b[38;5;129;01min\u001b[39;00m parameters_decay], \u001b[38;5;124m\"\u001b[39m\u001b[38;5;124mweight_decay\u001b[39m\u001b[38;5;124m\"\u001b[39m: weight_decay},\n\u001b[1;32m    337\u001b[0m         {\u001b[38;5;124m\"\u001b[39m\u001b[38;5;124mparams\u001b[39m\u001b[38;5;124m\"\u001b[39m: [param_dict[pn] \u001b[38;5;28;01mfor\u001b[39;00m pn \u001b[38;5;129;01min\u001b[39;00m parameters_no_decay], \u001b[38;5;124m\"\u001b[39m\u001b[38;5;124mweight_decay\u001b[39m\u001b[38;5;124m\"\u001b[39m: \u001b[38;5;241m0.0\u001b[39m},\n\u001b[1;32m    338\u001b[0m     ]\n\u001b[1;32m    339\u001b[0m     optimizer \u001b[38;5;241m=\u001b[39m optim\u001b[38;5;241m.\u001b[39mAdamW(optim_groups, lr\u001b[38;5;241m=\u001b[39mlearning_rate)\n",
      "File \u001b[0;32m/workspace/pytorch-cifar/models/swin_transformer.py:297\u001b[0m, in \u001b[0;36mSwinTransformer.separate_parameters\u001b[0;34m(self)\u001b[0m\n\u001b[1;32m    295\u001b[0m parameters_no_decay \u001b[38;5;241m=\u001b[39m \u001b[38;5;28mset\u001b[39m()\n\u001b[1;32m    296\u001b[0m modules_weight_decay \u001b[38;5;241m=\u001b[39m (nn\u001b[38;5;241m.\u001b[39mLinear, )\n\u001b[0;32m--> 297\u001b[0m modules_no_weight_decay \u001b[38;5;241m=\u001b[39m (nn\u001b[38;5;241m.\u001b[39mLayerNorm,\u001b[43msASN\u001b[49m,Swish)\n\u001b[1;32m    299\u001b[0m \u001b[38;5;28;01mfor\u001b[39;00m m_name, m \u001b[38;5;129;01min\u001b[39;00m \u001b[38;5;28mself\u001b[39m\u001b[38;5;241m.\u001b[39mnamed_modules():\n\u001b[1;32m    300\u001b[0m     \u001b[38;5;28;01mfor\u001b[39;00m param_name, param \u001b[38;5;129;01min\u001b[39;00m m\u001b[38;5;241m.\u001b[39mnamed_parameters():\n",
      "\u001b[0;31mNameError\u001b[0m: name 'sASN' is not defined"
     ]
    }
   ],
   "source": [
    "# cifar100 , swin, sASN\n",
    "\n",
    "swin,_ = Swin_transformer(num_classes=100,image_size=32,act=sASN())\n",
    "state_dict = torch.load('./checkpoint/ckpt_swin_sasn_199_65.91.pth')\n",
    "swin.load_state_dict(state_dict['net'])\n",
    "print_act_p(swin)\n",
    "print(state_dict['acc'])\n",
    "print(state_dict['epoch'])"
   ]
  },
  {
   "cell_type": "code",
   "execution_count": 8,
   "metadata": {},
   "outputs": [
    {
     "name": "stdout",
     "output_type": "stream",
     "text": [
      "n_classes: 100 img_size: 32 act: GELU(approximate='none')\n",
      "55.06\n",
      "197\n"
     ]
    }
   ],
   "source": [
    "# cifar100 , swin, gelu\n",
    "\n",
    "swin,_ = Swin_transformer(num_classes=100,image_size=32,act=nn.GELU())\n",
    "state_dict = torch.load('./checkpoint/ckpt_swin_gelu_199_54.91.pth')\n",
    "swin.load_state_dict(state_dict['net'])\n",
    "print_act_p(swin)\n",
    "print(state_dict['acc'])\n",
    "print(state_dict['epoch'])"
   ]
  },
  {
   "cell_type": "code",
   "execution_count": 9,
   "metadata": {},
   "outputs": [
    {
     "name": "stdout",
     "output_type": "stream",
     "text": [
      "n_classes: 100 img_size: 32 act: sASN()\n",
      "Parameter containing:\n",
      "tensor([1.0343], requires_grad=True)\n",
      "56.3\n",
      "198\n"
     ]
    }
   ],
   "source": [
    "# cifar100 , swin, gelu\n",
    "\n",
    "swin,_ = Swin_transformer(num_classes=100,image_size=32,act=sASN())\n",
    "state_dict = torch.load('./checkpoint/ckpt_swin_sASN_199_56.20.pth')\n",
    "swin.load_state_dict(state_dict['net'])\n",
    "print_act_p(swin)\n",
    "print(state_dict['acc'])\n",
    "print(state_dict['epoch'])"
   ]
  },
  {
   "cell_type": "code",
   "execution_count": 4,
   "metadata": {},
   "outputs": [
    {
     "name": "stdout",
     "output_type": "stream",
     "text": [
      "n_classes: 100 img_size: 32 act: Swish()\n",
      "Parameter containing:\n",
      "tensor([1.0149], requires_grad=True)\n",
      "55.45\n",
      "192\n"
     ]
    }
   ],
   "source": [
    "swin,_ = Swin_transformer(num_classes=100,image_size=32,act=Swish())\n",
    "state_dict = torch.load('./checkpoint/ckpt_swin_Swish_199_54.90.pth')\n",
    "swin.load_state_dict(state_dict['net'])\n",
    "print_act_p(swin)\n",
    "print(state_dict['acc'])\n",
    "print(state_dict['epoch'])"
   ]
  },
  {
   "cell_type": "code",
   "execution_count": 2,
   "metadata": {},
   "outputs": [
    {
     "name": "stdout",
     "output_type": "stream",
     "text": [
      "n_classes: 100 img_size: 32 act: SiLU()\n",
      "55.61\n",
      "191\n"
     ]
    }
   ],
   "source": [
    "# cifar100 , swin, sASN\n",
    "\n",
    "swin,_ = Swin_transformer(num_classes=100,image_size=32,act=SiLU())\n",
    "state_dict = torch.load('./checkpoint/ckpt_swin_SiLU_199_55.30.pth')\n",
    "swin.load_state_dict(state_dict['net'])\n",
    "print_act_p(swin)\n",
    "print(state_dict['acc'])\n",
    "print(state_dict['epoch'])"
   ]
  },
  {
   "cell_type": "code",
   "execution_count": 13,
   "metadata": {},
   "outputs": [
    {
     "name": "stdout",
     "output_type": "stream",
     "text": [
      "n_classes: 100 img_size: 32 act: SiLU()\n",
      "55.61\n",
      "191\n"
     ]
    }
   ],
   "source": [
    "swin,_ = Swin_transformer(num_classes=100,image_size=32,act=SiLU())\n",
    "state_dict = torch.load('./checkpoint/ckpt_swin_SiLU.pth')\n",
    "swin.load_state_dict(state_dict['net'])\n",
    "print_act_p(swin)\n",
    "print(state_dict['acc'])\n",
    "print(state_dict['epoch'])"
   ]
  }
 ],
 "metadata": {
  "kernelspec": {
   "display_name": "Python 3",
   "language": "python",
   "name": "python3"
  },
  "language_info": {
   "codemirror_mode": {
    "name": "ipython",
    "version": 3
   },
   "file_extension": ".py",
   "mimetype": "text/x-python",
   "name": "python",
   "nbconvert_exporter": "python",
   "pygments_lexer": "ipython3",
   "version": "3.10.12"
  }
 },
 "nbformat": 4,
 "nbformat_minor": 2
}
