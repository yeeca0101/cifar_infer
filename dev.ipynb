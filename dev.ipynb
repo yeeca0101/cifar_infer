{
 "cells": [
  {
   "cell_type": "code",
   "execution_count": 1,
   "metadata": {},
   "outputs": [],
   "source": [
    "import sys\n",
    "sys.path.append('../')\n",
    "import pandas as pd\n",
    "import numpy as np\n",
    "import torch\n",
    "from torch import nn\n",
    "from models.resnet import ResNet18\n",
    "from models.swin_transformer import Swin_transformer\n",
    "\n",
    "# external\n",
    "from experiments.activation.acts import *\n",
    "from experiments.activation.GLUs import *\n",
    "from experiments.util.utils import *\n",
    "\n"
   ]
  },
  {
   "cell_type": "markdown",
   "metadata": {},
   "source": [
    "resnet\n",
    "    batch 128\n",
    "    lr 0.1\n",
    "    "
   ]
  },
  {
   "cell_type": "code",
   "execution_count": 14,
   "metadata": {},
   "outputs": [
    {
     "name": "stdout",
     "output_type": "stream",
     "text": [
      "{'beta': 6.46751594543457}\n",
      "78.42\n",
      "170\n"
     ]
    }
   ],
   "source": [
    "# cifar10 , resnet18, \n",
    "resnet = ResNet18(100,act=Swish())\n",
    "state_dict = torch.load('./checkpoint/dev_cifar100/3_ckpt_resnet18_CIFAR100_Swish_78.42.pth')\n",
    "resnet.load_state_dict(state_dict['net'])\n",
    "print_act_p(resnet)\n",
    "print(state_dict['acc'])\n",
    "print(state_dict['epoch'])"
   ]
  },
  {
   "cell_type": "code",
   "execution_count": 4,
   "metadata": {},
   "outputs": [
    {
     "name": "stdout",
     "output_type": "stream",
     "text": [
      "{'beta': 1.0}\n",
      "76.41\n",
      "189\n"
     ]
    }
   ],
   "source": [
    "# cifar10 , resnet18, SwishT grad False\n",
    "resnet = ResNet18(100,act=SwishT())\n",
    "state_dict = torch.load('./checkpoint/cifar100/ckpt_resnet18_CIFAR100_SwishT.pth')\n",
    "resnet.load_state_dict(state_dict['net'])\n",
    "print_act_p(resnet)\n",
    "print(state_dict['acc'])\n",
    "print(state_dict['epoch'])"
   ]
  },
  {
   "cell_type": "code",
   "execution_count": 12,
   "metadata": {},
   "outputs": [
    {
     "name": "stdout",
     "output_type": "stream",
     "text": [
      "ResNet\n",
      "total params : 11173962\n",
      "ReLU param : {}\n",
      "best acc: 95.43\n",
      "best ep : 197\n"
     ]
    }
   ],
   "source": [
    "# cifar10 , resnet18, Swish\n",
    "resnet = ResNet18(10,act=nn.ReLU())\n",
    "\n",
    "print_results(resnet,'./checkpoint/ckpt_resnet18_ReLU.pth')"
   ]
  },
  {
   "cell_type": "code",
   "execution_count": 10,
   "metadata": {},
   "outputs": [
    {
     "name": "stdout",
     "output_type": "stream",
     "text": [
      "{}\n",
      "76.72\n",
      "199\n"
     ]
    }
   ],
   "source": [
    "# cifar10 , resnet18, Swish\n",
    "resnet = ResNet18(100,act=Mish())\n",
    "state_dict = torch.load('./checkpoint/ckpt_resnet18_cifar100_Mish.pth')\n",
    "resnet.load_state_dict(state_dict['net'])\n",
    "print_act_p(resnet)\n",
    "print(state_dict['acc'])\n",
    "print(state_dict['epoch'])"
   ]
  },
  {
   "cell_type": "code",
   "execution_count": 5,
   "metadata": {},
   "outputs": [
    {
     "name": "stdout",
     "output_type": "stream",
     "text": [
      "92.79\n",
      "194\n"
     ]
    }
   ],
   "source": [
    "# cifar10 , resnet18, Swish\n",
    "resnet = ResNet18(10,act=nn.ELU())\n",
    "state_dict = torch.load('./checkpoint/ckpt_resnet18_ELU.pth')\n",
    "resnet.load_state_dict(state_dict['net'])\n",
    "print_act_p(resnet)\n",
    "print(state_dict['acc'])\n",
    "print(state_dict['epoch'])"
   ]
  },
  {
   "cell_type": "code",
   "execution_count": 8,
   "metadata": {},
   "outputs": [
    {
     "name": "stdout",
     "output_type": "stream",
     "text": [
      "Parameter containing:\n",
      "tensor([5.6681], requires_grad=True)\n",
      "78.1\n",
      "190\n"
     ]
    }
   ],
   "source": [
    "# cifar10 , resnet18, ASN\n",
    "resnet = ResNet18(100,act=ASN())\n",
    "state_dict = torch.load('./checkpoint/ckpt_resnet18_cifar100_ASN.pth')\n",
    "resnet.load_state_dict(state_dict['net'])\n",
    "print_act_p(resnet)\n",
    "print(state_dict['acc'])\n",
    "print(state_dict['epoch'])"
   ]
  },
  {
   "cell_type": "code",
   "execution_count": 3,
   "metadata": {},
   "outputs": [
    {
     "name": "stdout",
     "output_type": "stream",
     "text": [
      "Parameter containing:\n",
      "tensor([5.9302], requires_grad=True)\n",
      "95.35\n",
      "179\n"
     ]
    }
   ],
   "source": [
    "# cifar10 , resnet18, Swish\n",
    "resnet = ResNet18(10,act=Swish())\n",
    "state_dict = torch.load('./checkpoint/ckpt_resnet18_Swish.pth')\n",
    "resnet.load_state_dict(state_dict['net'])\n",
    "print_act_p(resnet)\n",
    "print(state_dict['acc'])\n",
    "print(state_dict['epoch'])"
   ]
  },
  {
   "cell_type": "code",
   "execution_count": 6,
   "metadata": {},
   "outputs": [
    {
     "name": "stdout",
     "output_type": "stream",
     "text": [
      "94.17\n",
      "182\n"
     ]
    }
   ],
   "source": [
    "resnet = ResNet18(10,act=Mish())\n",
    "state_dict = torch.load('./checkpoint/ckpt_resnet18_Mish_94.08.pth')\n",
    "resnet.load_state_dict(state_dict['net'])\n",
    "print_act_p(resnet)\n",
    "print(state_dict['acc'])\n",
    "print(state_dict['epoch'])"
   ]
  },
  {
   "cell_type": "code",
   "execution_count": 20,
   "metadata": {},
   "outputs": [
    {
     "name": "stdout",
     "output_type": "stream",
     "text": [
      "Parameter containing:\n",
      "tensor([-6.7338], requires_grad=True)\n",
      "95.44\n",
      "177\n"
     ]
    }
   ],
   "source": [
    "# cifar10 , resnet18, ASN\n",
    "\n",
    "resnet = ResNet18(10,act=ASN())\n",
    "state_dict = torch.load('./checkpoint/ckpt_resnet18_asn_177_95.44.pth')\n",
    "resnet.load_state_dict(state_dict['net'])\n",
    "print_act_p(resnet)\n",
    "print(state_dict['acc'])\n",
    "print(state_dict['epoch'])"
   ]
  },
  {
   "cell_type": "code",
   "execution_count": 3,
   "metadata": {},
   "outputs": [
    {
     "name": "stdout",
     "output_type": "stream",
     "text": [
      "Parameter containing:\n",
      "tensor([-6.6251], requires_grad=True)\n",
      "95.53\n",
      "184\n"
     ]
    }
   ],
   "source": [
    "# cifar10 , resnet18, SiluT\n",
    "\n",
    "resnet = ResNet18(10,act=SliuT())\n",
    "state_dict = torch.load('./checkpoint/ckpt_resnet18_SliuT_95.37.pth')\n",
    "resnet.load_state_dict(state_dict['net'])\n",
    "print_act_p(resnet)\n",
    "print(state_dict['acc'])\n",
    "print(state_dict['epoch'])"
   ]
  },
  {
   "cell_type": "code",
   "execution_count": 21,
   "metadata": {},
   "outputs": [
    {
     "name": "stdout",
     "output_type": "stream",
     "text": [
      "Parameter containing:\n",
      "tensor([5.9771], requires_grad=True)\n",
      "95.27\n",
      "171\n"
     ]
    }
   ],
   "source": [
    "# cifar10 , resnet18, sASN\n",
    "\n",
    "resnet = ResNet18(10,act=sASN())\n",
    "state_dict = torch.load('./checkpoint/ckpt_resnet18_sasn_177_95.18.pth')\n",
    "resnet.load_state_dict(state_dict['net'])\n",
    "print_act_p(resnet)\n",
    "print(state_dict['acc'])\n",
    "print(state_dict['epoch'])"
   ]
  },
  {
   "cell_type": "code",
   "execution_count": 22,
   "metadata": {},
   "outputs": [
    {
     "name": "stdout",
     "output_type": "stream",
     "text": [
      "94.63\n",
      "177\n"
     ]
    }
   ],
   "source": [
    "# cifar10 , resnet18, Relu\n",
    "\n",
    "resnet = ResNet18(10,act=nn.ReLU())\n",
    "state_dict = torch.load('./checkpoint/ckpt_resnet18_relu_177_94.63.pth')\n",
    "resnet.load_state_dict(state_dict['net'])\n",
    "print_act_p(resnet)\n",
    "print(state_dict['acc'])\n",
    "print(state_dict['epoch'])"
   ]
  },
  {
   "cell_type": "code",
   "execution_count": 23,
   "metadata": {},
   "outputs": [
    {
     "name": "stdout",
     "output_type": "stream",
     "text": [
      "95.05\n",
      "199\n"
     ]
    }
   ],
   "source": [
    "# cifar10 , resnet18, gelu\n",
    "\n",
    "resnet = ResNet18(10,act=nn.GELU())\n",
    "state_dict = torch.load('./checkpoint/ckpt_resnet18_GELU_199_95.05.pth')\n",
    "resnet.load_state_dict(state_dict['net'])\n",
    "print_act_p(resnet)\n",
    "print(state_dict['acc'])\n",
    "print(state_dict['epoch'])"
   ]
  },
  {
   "cell_type": "code",
   "execution_count": null,
   "metadata": {},
   "outputs": [],
   "source": [
    "# cifar10 , resnet18, Relu\n",
    "\n",
    "resnet = ResNet18(10,act=nn.ReLU())\n",
    "state_dict = torch.load('./checkpoint/ckpt_resnet18_relu_177_94.63.pth')\n",
    "resnet.load_state_dict(state_dict['net'])\n",
    "print_act_p(resnet)\n",
    "print(state_dict['acc'])\n",
    "print(state_dict['epoch'])"
   ]
  },
  {
   "cell_type": "code",
   "execution_count": 9,
   "metadata": {},
   "outputs": [
    {
     "name": "stdout",
     "output_type": "stream",
     "text": [
      "Parameter containing:\n",
      "tensor([6.4185], requires_grad=True)\n"
     ]
    }
   ],
   "source": [
    "# cifar100 , resnet18, sASN\n",
    "\n",
    "resnet = ResNet18(100)\n",
    "resnet.load_state_dict(torch.load('./checkpoint/ckpt_resnet18_cifar100_sasn_199_79.59.pth')['net'])\n",
    "print_act_p(resnet)"
   ]
  },
  {
   "cell_type": "code",
   "execution_count": 12,
   "metadata": {},
   "outputs": [
    {
     "name": "stdout",
     "output_type": "stream",
     "text": [
      "Parameter containing:\n",
      "tensor([-6.7338], requires_grad=True)\n"
     ]
    }
   ],
   "source": [
    "# cifar10 , resnet18, ASN\n",
    "\n",
    "resnet = ResNet18(10)\n",
    "resnet.load_state_dict(torch.load('./checkpoint/ckpt_resnet18_asn_177_95.44.pth')['net'])\n",
    "print_act_p(resnet)"
   ]
  },
  {
   "cell_type": "code",
   "execution_count": 10,
   "metadata": {},
   "outputs": [
    {
     "name": "stdout",
     "output_type": "stream",
     "text": [
      "Parameter containing:\n",
      "tensor([5.6681], requires_grad=True)\n",
      "78.1\n",
      "190\n"
     ]
    }
   ],
   "source": [
    "# cifar10 , resnet18, ASN\n",
    "resnet = ResNet18(100,act=ASN())\n",
    "state_dict = torch.load('./checkpoint/ckpt_resnet18_cifar100_ASN_78.10.pth')\n",
    "resnet.load_state_dict(state_dict['net'])\n",
    "print_act_p(resnet)\n",
    "print(state_dict['acc'])\n",
    "print(state_dict['epoch'])"
   ]
  },
  {
   "cell_type": "code",
   "execution_count": 5,
   "metadata": {},
   "outputs": [
    {
     "name": "stdout",
     "output_type": "stream",
     "text": [
      "Parameter containing:\n",
      "tensor([6.4185], requires_grad=True)\n",
      "79.68\n",
      "194\n"
     ]
    }
   ],
   "source": [
    "# cifar100 , resnet18, SwishT\n",
    "\n",
    "resnet = ResNet18(100,act=SwishT())\n",
    "state_dict = torch.load('./checkpoint/ckpt_resnet18_cifar100_sasn_199_79.59.pth')\n",
    "resnet.load_state_dict(state_dict['net'])\n",
    "print_act_p(resnet)\n",
    "print(state_dict['acc'])\n",
    "print(state_dict['epoch'])"
   ]
  },
  {
   "cell_type": "code",
   "execution_count": 11,
   "metadata": {},
   "outputs": [
    {
     "name": "stdout",
     "output_type": "stream",
     "text": [
      "77.03\n",
      "190\n"
     ]
    }
   ],
   "source": [
    "# cifar10 , resnet18, ASN\n",
    "resnet = ResNet18(100,act=Mish())\n",
    "state_dict = torch.load('./checkpoint/ckpt_resnet18_cifar100_Mish.pth')\n",
    "resnet.load_state_dict(state_dict['net'])\n",
    "print_act_p(resnet)\n",
    "print(state_dict['acc'])\n",
    "print(state_dict['epoch'])"
   ]
  },
  {
   "cell_type": "code",
   "execution_count": 14,
   "metadata": {},
   "outputs": [
    {
     "name": "stdout",
     "output_type": "stream",
     "text": [
      "Parameter containing:\n",
      "tensor([5.9771], requires_grad=True)\n"
     ]
    }
   ],
   "source": [
    "# cifar10 , resnet18, sASN=swisht\n",
    "\n",
    "resnet = ResNet18(10)\n",
    "resnet.load_state_dict(torch.load('./checkpoint/ckpt_resnet18_sasn_177_95.18.pth')['net'])\n",
    "print_act_p(resnet)"
   ]
  },
  {
   "cell_type": "code",
   "execution_count": 8,
   "metadata": {},
   "outputs": [
    {
     "name": "stdout",
     "output_type": "stream",
     "text": [
      "76.74\n",
      "199\n"
     ]
    }
   ],
   "source": [
    "# cifar100 , resnet18, SiLU\n",
    "\n",
    "resnet = ResNet18(100,act=SiLU())\n",
    "state_dict = torch.load('./checkpoint/ckpt_resnet18_cifar100_SiLU_199_76.74.pth')\n",
    "resnet.load_state_dict(state_dict['net'])\n",
    "print_act_p(resnet)\n",
    "print(state_dict['acc'])\n",
    "print(state_dict['epoch'])"
   ]
  },
  {
   "cell_type": "code",
   "execution_count": 12,
   "metadata": {},
   "outputs": [
    {
     "name": "stdout",
     "output_type": "stream",
     "text": [
      "Parameter containing:\n",
      "tensor([6.4133], requires_grad=True)\n",
      "78.13\n",
      "193\n"
     ]
    }
   ],
   "source": [
    "# cifar100 , resnet18, SiLU\n",
    "\n",
    "resnet = ResNet18(100,act=Swish())\n",
    "state_dict = torch.load('./checkpoint/ckpt_resnet18_cifar100_Swish_199_77.92.pth')\n",
    "resnet.load_state_dict(state_dict['net'])\n",
    "print_act_p(resnet)\n",
    "print(state_dict['acc'])\n",
    "print(state_dict['epoch'])"
   ]
  },
  {
   "cell_type": "code",
   "execution_count": 15,
   "metadata": {},
   "outputs": [
    {
     "name": "stdout",
     "output_type": "stream",
     "text": [
      "Parameter containing:\n",
      "tensor([-6.1995], requires_grad=True)\n",
      "94.3\n",
      "162\n"
     ]
    }
   ],
   "source": [
    "# cifar100 , resnet18, SwishT\n",
    "\n",
    "resnet = ResNet18(10,act=SwishT())\n",
    "state_dict = torch.load('./checkpoint/ckpt_resnet18_cifar100_SwishT.pth')\n",
    "resnet.load_state_dict(state_dict['net'])\n",
    "print_act_p(resnet)\n",
    "print(state_dict['acc'])\n",
    "print(state_dict['epoch'])"
   ]
  },
  {
   "cell_type": "code",
   "execution_count": 15,
   "metadata": {},
   "outputs": [
    {
     "name": "stdout",
     "output_type": "stream",
     "text": [
      "Parameter containing:\n",
      "tensor([5.5985], requires_grad=True)\n",
      "77.09\n",
      "198\n"
     ]
    }
   ],
   "source": [
    "# cifar100 , resnet18, SwishT\n",
    "\n",
    "resnet = ResNet18(100,act=Swish())\n",
    "state_dict = torch.load('./checkpoint/ckpt_resnet18_cifar100_gelu_199_76.87.pth')\n",
    "resnet.load_state_dict(state_dict['net'])\n",
    "print_act_p(resnet)\n",
    "print(state_dict['acc'])\n",
    "print(state_dict['epoch'])"
   ]
  },
  {
   "cell_type": "code",
   "execution_count": 4,
   "metadata": {},
   "outputs": [
    {
     "name": "stdout",
     "output_type": "stream",
     "text": [
      "Parameter containing:\n",
      "tensor([6.4185], requires_grad=True)\n",
      "79.68\n",
      "194\n"
     ]
    }
   ],
   "source": [
    "# cifar100 , resnet18, SwishT\n",
    "\n",
    "resnet = ResNet18(100,act=SwishT())\n",
    "state_dict = torch.load('./checkpoint/ckpt_resnet18_cifar100_sasn_199_79.59.pth')\n",
    "resnet.load_state_dict(state_dict['net'])\n",
    "print_act_p(resnet)\n",
    "print(state_dict['acc'])\n",
    "print(state_dict['epoch'])"
   ]
  },
  {
   "cell_type": "code",
   "execution_count": 3,
   "metadata": {},
   "outputs": [
    {
     "name": "stdout",
     "output_type": "stream",
     "text": [
      "Parameter containing:\n",
      "tensor([-7.1654], requires_grad=True)\n",
      "77.72\n",
      "193\n"
     ]
    }
   ],
   "source": [
    "# cifar100 , resnet18, SliuT\n",
    "\n",
    "resnet = ResNet18(100,act=SliuT())\n",
    "state_dict = torch.load('./checkpoint/ckpt_resnet18_cifar100_SliuT.pth')\n",
    "resnet.load_state_dict(state_dict['net'])\n",
    "print_act_p(resnet)\n",
    "print(state_dict['acc'])\n",
    "print(state_dict['epoch'])"
   ]
  },
  {
   "cell_type": "code",
   "execution_count": 8,
   "metadata": {},
   "outputs": [
    {
     "name": "stdout",
     "output_type": "stream",
     "text": [
      "n_classes: 100 img_size: 32 act: GELU(approximate='none')\n",
      "55.06\n",
      "197\n"
     ]
    }
   ],
   "source": [
    "# cifar100 , swin, gelu\n",
    "\n",
    "swin,_ = Swin_transformer(num_classes=100,image_size=32,act=nn.GELU())\n",
    "state_dict = torch.load('./checkpoint/ckpt_swin_gelu_199_54.91.pth')\n",
    "swin.load_state_dict(state_dict['net'])\n",
    "print_act_p(swin)\n",
    "print(state_dict['acc'])\n",
    "print(state_dict['epoch'])"
   ]
  },
  {
   "cell_type": "code",
   "execution_count": 9,
   "metadata": {},
   "outputs": [
    {
     "name": "stdout",
     "output_type": "stream",
     "text": [
      "n_classes: 100 img_size: 32 act: sASN()\n",
      "Parameter containing:\n",
      "tensor([1.0343], requires_grad=True)\n",
      "56.3\n",
      "198\n"
     ]
    }
   ],
   "source": [
    "# cifar100 , swin, gelu\n",
    "\n",
    "swin,_ = Swin_transformer(num_classes=100,image_size=32,act=sASN())\n",
    "state_dict = torch.load('./checkpoint/ckpt_swin_sASN_199_56.20.pth')\n",
    "swin.load_state_dict(state_dict['net'])\n",
    "print_act_p(swin)\n",
    "print(state_dict['acc'])\n",
    "print(state_dict['epoch'])"
   ]
  },
  {
   "cell_type": "code",
   "execution_count": 4,
   "metadata": {},
   "outputs": [
    {
     "name": "stdout",
     "output_type": "stream",
     "text": [
      "n_classes: 100 img_size: 32 act: Swish()\n",
      "Parameter containing:\n",
      "tensor([1.0149], requires_grad=True)\n",
      "55.45\n",
      "192\n"
     ]
    }
   ],
   "source": [
    "swin,_ = Swin_transformer(num_classes=100,image_size=32,act=Swish())\n",
    "state_dict = torch.load('./checkpoint/ckpt_swin_Swish_199_54.90.pth')\n",
    "swin.load_state_dict(state_dict['net'])\n",
    "print_act_p(swin)\n",
    "print(state_dict['acc'])\n",
    "print(state_dict['epoch'])"
   ]
  },
  {
   "cell_type": "code",
   "execution_count": 2,
   "metadata": {},
   "outputs": [
    {
     "name": "stdout",
     "output_type": "stream",
     "text": [
      "n_classes: 100 img_size: 32 act: SiLU()\n",
      "55.61\n",
      "191\n"
     ]
    }
   ],
   "source": [
    "# cifar100 , swin, sASN\n",
    "\n",
    "swin,_ = Swin_transformer(num_classes=100,image_size=32,act=SiLU())\n",
    "state_dict = torch.load('./checkpoint/ckpt_swin_SiLU_199_55.30.pth')\n",
    "swin.load_state_dict(state_dict['net'])\n",
    "print_act_p(swin)\n",
    "print(state_dict['acc'])\n",
    "print(state_dict['epoch'])"
   ]
  },
  {
   "cell_type": "code",
   "execution_count": 13,
   "metadata": {},
   "outputs": [
    {
     "name": "stdout",
     "output_type": "stream",
     "text": [
      "n_classes: 100 img_size: 32 act: SiLU()\n",
      "55.61\n",
      "191\n"
     ]
    }
   ],
   "source": [
    "swin,_ = Swin_transformer(num_classes=100,image_size=32,act=SiLU())\n",
    "state_dict = torch.load('./checkpoint/ckpt_swin_SiLU.pth')\n",
    "swin.load_state_dict(state_dict['net'])\n",
    "print_act_p(swin)\n",
    "print(state_dict['acc'])\n",
    "print(state_dict['epoch'])"
   ]
  },
  {
   "cell_type": "code",
   "execution_count": 56,
   "metadata": {},
   "outputs": [],
   "source": [
    "import os\n",
    "import torch\n",
    "import matplotlib.pyplot as plt\n",
    "import numpy as np\n",
    "import fnmatch\n",
    "\n",
    "def load_model_checkpoints(folder_path, activation_fns, repeats):\n",
    "    \"\"\"Load model checkpoints and gather validation accuracies into a structured dictionary.\n",
    "\n",
    "    Args:\n",
    "        folder_path (str): Path to the folder where the checkpoints are saved.\n",
    "        activation_fns (list): List of activation function names as strings.\n",
    "        repeats (int): Number of repeats for each activation function.\n",
    "\n",
    "    Returns:\n",
    "        dict: A dictionary with activation function names as keys and lists of dictionaries (each containing 'top1' and 'top5' accuracies) as values.\n",
    "    \"\"\"\n",
    "    all_accuracies = {act_fn: [] for act_fn in activation_fns}\n",
    "\n",
    "    for act_fn in activation_fns:\n",
    "        # if act_fn == 'GLU': continue\n",
    "        for i in range(1, repeats + 1):\n",
    "            if act_fn == 'SwishT':\n",
    "                file_name_pattern = f\"{i}_ckpt_*_{act_fn}_[0-9]*.pth\"\n",
    "            else:\n",
    "                file_name_pattern = f\"{i}_ckpt_*_{act_fn}_*.pth\"\n",
    "            for file_name in os.listdir(folder_path):\n",
    "                if fnmatch.fnmatch(file_name, file_name_pattern):\n",
    "                    checkpoint_path = os.path.join(folder_path, file_name)\n",
    "                    checkpoint = torch.load(checkpoint_path, map_location=torch.device('cpu'))  # Ensure the checkpoint is loaded in CPU mode\n",
    "                    accuracy_data = {\n",
    "                        'top1': checkpoint['top1'],\n",
    "                        'top5': checkpoint['top5'],\n",
    "                    }\n",
    "                    all_accuracies[act_fn].append(accuracy_data)\n",
    "                    if 'act.beta' in checkpoint['net'].keys():\n",
    "                        accuracy_data['beta'] = checkpoint['net']['act.beta'].cpu().numpy()\n",
    "                    elif 'module.act.beta' in checkpoint['net'].keys():\n",
    "                        accuracy_data['beta'] = checkpoint['net']['module.act.beta'].cpu().numpy()\n",
    "                    else:\n",
    "                        accuracy_data['beta'] = np.array([0])\n",
    "                else:\n",
    "                    # print(file_name)\n",
    "                    pass\n",
    "    return all_accuracies\n",
    "\n",
    "def summarize_accuracies(accuracies_dict):\n",
    "    \"\"\"Summarize accuracies into a DataFrame with statistical measures.\n",
    "\n",
    "    Args:\n",
    "        accuracies_dict (dict): A dictionary with activation function names as keys and lists of accuracies as values.\n",
    "                                Each value list contains dictionaries with keys 'top1' and 'top5'.\n",
    "\n",
    "    Returns:\n",
    "        DataFrame: A DataFrame with activation function names as indices and statistical measures as columns.\n",
    "    \"\"\"\n",
    "    # Prepare data for DataFrame\n",
    "    data = []\n",
    "    index = []\n",
    "    for act_fn, results in accuracies_dict.items():\n",
    "        top1_scores = [result['top1'] for result in results]\n",
    "        top5_scores = [result['top5'] for result in results]\n",
    "        betas = [result['beta'] for result in results]\n",
    "\n",
    "        summary = {\n",
    "            'Mean of top1': np.mean(top1_scores),\n",
    "            'Std of top1': np.std(top1_scores),\n",
    "            'Mean of top5': np.mean(top5_scores),\n",
    "            'Std of top5': np.std(top5_scores),\n",
    "            'Mean of beta':np.mean(betas),\n",
    "            'Std of beta': np.std(betas),\n",
    "            'Betas':[np.round(beta,2) for beta in betas]\n",
    "        }\n",
    "        data.append(summary)\n",
    "        index.append(act_fn)\n",
    "\n",
    "    # Create DataFrame\n",
    "    df = pd.DataFrame(data, index=index)\n",
    "\n",
    "    return df\n",
    "\n",
    "def plot_accuracies_boxplot(accuracies_dict, accuracy_type='top1', figsize=(10, 8)):\n",
    "    \"\"\"Plot a boxplot of the accuracies for each activation function based on specified accuracy type ('top1' or 'top5') and figure size.\n",
    "\n",
    "    Args:\n",
    "        accuracies_dict (dict): A dictionary with activation function names as keys and lists of dictionaries (each containing 'top1' and 'top5' accuracies) as values.\n",
    "        accuracy_type (str): The type of accuracy to plot ('top1' or 'top5').\n",
    "        figsize (tuple): Tuple specifying the figure size.\n",
    "    \"\"\"\n",
    "    labels = list(accuracies_dict.keys())\n",
    "    accuracies = [[result[accuracy_type] for result in accuracies_dict[act_fn]] for act_fn in labels]\n",
    "\n",
    "    fig, ax = plt.subplots(figsize=figsize)\n",
    "    ax.boxplot(accuracies, labels=labels)\n",
    "    ax.set_title(f'Comparison of Activation Functions ({accuracy_type} Accuracy)')\n",
    "    ax.set_xlabel('Activation Function')\n",
    "    ax.set_ylabel(f'Validation Accuracy ({accuracy_type})')\n",
    "\n",
    "    plt.show()\n",
    "\n"
   ]
  },
  {
   "cell_type": "code",
   "execution_count": 60,
   "metadata": {},
   "outputs": [
    {
     "name": "stdout",
     "output_type": "stream",
     "text": [
      "T\n",
      "55\n",
      "T\n",
      "55\n",
      "T\n",
      "55\n",
      "T\n",
      "55\n",
      "T\n",
      "55\n"
     ]
    },
    {
     "data": {
      "image/png": "[encoded data removed]",
      "text/plain": [
       "<Figure size 1000x800 with 1 Axes>"
      ]
     },
     "metadata": {},
     "output_type": "display_data"
    },
    {
     "data": {
      "image/png": "[encoded data removed]",
      "text/plain": [
       "<Figure size 1000x800 with 1 Axes>"
      ]
     },
     "metadata": {},
     "output_type": "display_data"
    },
    {
     "data": {
      "text/html": [
       "<div>\n",
       "<style scoped>\n",
       "    .dataframe tbody tr th:only-of-type {\n",
       "        vertical-align: middle;\n",
       "    }\n",
       "\n",
       "    .dataframe tbody tr th {\n",
       "        vertical-align: top;\n",
       "    }\n",
       "\n",
       "    .dataframe thead th {\n",
       "        text-align: right;\n",
       "    }\n",
       "</style>\n",
       "<table border=\"1\" class=\"dataframe\">\n",
       "  <thead>\n",
       "    <tr style=\"text-align: right;\">\n",
       "      <th></th>\n",
       "      <th>Mean of top1</th>\n",
       "      <th>Std of top1</th>\n",
       "      <th>Mean of top5</th>\n",
       "      <th>Std of top5</th>\n",
       "      <th>Mean of beta</th>\n",
       "      <th>Std of beta</th>\n",
       "      <th>Betas</th>\n",
       "    </tr>\n",
       "  </thead>\n",
       "  <tbody>\n",
       "    <tr>\n",
       "      <th>SwishT</th>\n",
       "      <td>79.022</td>\n",
       "      <td>0.237857</td>\n",
       "      <td>94.248</td>\n",
       "      <td>0.107592</td>\n",
       "      <td>6.445544</td>\n",
       "      <td>0.018957</td>\n",
       "      <td>[[6.46], [6.45], [6.42], [6.42], [6.47]]</td>\n",
       "    </tr>\n",
       "    <tr>\n",
       "      <th>SwishT_C</th>\n",
       "      <td>78.722</td>\n",
       "      <td>0.151842</td>\n",
       "      <td>94.100</td>\n",
       "      <td>0.253929</td>\n",
       "      <td>1.522458</td>\n",
       "      <td>0.097233</td>\n",
       "      <td>[[1.62], [1.66], [1.43], [1.42], [1.49]]</td>\n",
       "    </tr>\n",
       "    <tr>\n",
       "      <th>Swish</th>\n",
       "      <td>78.604</td>\n",
       "      <td>0.282248</td>\n",
       "      <td>94.180</td>\n",
       "      <td>0.144361</td>\n",
       "      <td>6.429610</td>\n",
       "      <td>0.021632</td>\n",
       "      <td>[[6.41], [6.41], [6.47], [6.43], [6.43]]</td>\n",
       "    </tr>\n",
       "    <tr>\n",
       "      <th>SliuT</th>\n",
       "      <td>78.222</td>\n",
       "      <td>0.449907</td>\n",
       "      <td>94.170</td>\n",
       "      <td>0.189526</td>\n",
       "      <td>-7.172207</td>\n",
       "      <td>0.041905</td>\n",
       "      <td>[[-7.17], [-7.16], [-7.25], [-7.14], [-7.14], ...</td>\n",
       "    </tr>\n",
       "    <tr>\n",
       "      <th>GELU</th>\n",
       "      <td>78.076</td>\n",
       "      <td>0.258735</td>\n",
       "      <td>93.918</td>\n",
       "      <td>0.169635</td>\n",
       "      <td>0.000000</td>\n",
       "      <td>0.000000</td>\n",
       "      <td>[[0], [0], [0], [0], [0]]</td>\n",
       "    </tr>\n",
       "    <tr>\n",
       "      <th>ASN</th>\n",
       "      <td>77.314</td>\n",
       "      <td>0.699989</td>\n",
       "      <td>93.354</td>\n",
       "      <td>0.236947</td>\n",
       "      <td>5.665387</td>\n",
       "      <td>0.027308</td>\n",
       "      <td>[[5.7], [5.69], [5.65], [5.65], [5.63]]</td>\n",
       "    </tr>\n",
       "    <tr>\n",
       "      <th>SwishT_B</th>\n",
       "      <td>77.236</td>\n",
       "      <td>0.994014</td>\n",
       "      <td>93.176</td>\n",
       "      <td>0.506620</td>\n",
       "      <td>1.491241</td>\n",
       "      <td>0.022442</td>\n",
       "      <td>[[1.49], [1.5], [1.48], [1.53], [1.46]]</td>\n",
       "    </tr>\n",
       "    <tr>\n",
       "      <th>Mish</th>\n",
       "      <td>77.162</td>\n",
       "      <td>0.238529</td>\n",
       "      <td>93.534</td>\n",
       "      <td>0.144720</td>\n",
       "      <td>0.000000</td>\n",
       "      <td>0.000000</td>\n",
       "      <td>[[0], [0], [0], [0], [0]]</td>\n",
       "    </tr>\n",
       "    <tr>\n",
       "      <th>SiLU</th>\n",
       "      <td>76.818</td>\n",
       "      <td>0.235915</td>\n",
       "      <td>93.510</td>\n",
       "      <td>0.139714</td>\n",
       "      <td>0.000000</td>\n",
       "      <td>0.000000</td>\n",
       "      <td>[[0], [0], [0], [0], [0]]</td>\n",
       "    </tr>\n",
       "    <tr>\n",
       "      <th>SwishT_A</th>\n",
       "      <td>76.810</td>\n",
       "      <td>0.210428</td>\n",
       "      <td>93.436</td>\n",
       "      <td>0.130782</td>\n",
       "      <td>0.000000</td>\n",
       "      <td>0.000000</td>\n",
       "      <td>[[0], [0], [0], [0], [0]]</td>\n",
       "    </tr>\n",
       "  </tbody>\n",
       "</table>\n",
       "</div>"
      ],
      "text/plain": [
       "          Mean of top1  Std of top1  Mean of top5  Std of top5  Mean of beta  \\\n",
       "SwishT          79.022     0.237857        94.248     0.107592      6.445544   \n",
       "SwishT_C        78.722     0.151842        94.100     0.253929      1.522458   \n",
       "Swish           78.604     0.282248        94.180     0.144361      6.429610   \n",
       "SliuT           78.222     0.449907        94.170     0.189526     -7.172207   \n",
       "GELU            78.076     0.258735        93.918     0.169635      0.000000   \n",
       "ASN             77.314     0.699989        93.354     0.236947      5.665387   \n",
       "SwishT_B        77.236     0.994014        93.176     0.506620      1.491241   \n",
       "Mish            77.162     0.238529        93.534     0.144720      0.000000   \n",
       "SiLU            76.818     0.235915        93.510     0.139714      0.000000   \n",
       "SwishT_A        76.810     0.210428        93.436     0.130782      0.000000   \n",
       "\n",
       "          Std of beta                                              Betas  \n",
       "SwishT       0.018957           [[6.46], [6.45], [6.42], [6.42], [6.47]]  \n",
       "SwishT_C     0.097233           [[1.62], [1.66], [1.43], [1.42], [1.49]]  \n",
       "Swish        0.021632           [[6.41], [6.41], [6.47], [6.43], [6.43]]  \n",
       "SliuT        0.041905  [[-7.17], [-7.16], [-7.25], [-7.14], [-7.14], ...  \n",
       "GELU         0.000000                          [[0], [0], [0], [0], [0]]  \n",
       "ASN          0.027308            [[5.7], [5.69], [5.65], [5.65], [5.63]]  \n",
       "SwishT_B     0.022442            [[1.49], [1.5], [1.48], [1.53], [1.46]]  \n",
       "Mish         0.000000                          [[0], [0], [0], [0], [0]]  \n",
       "SiLU         0.000000                          [[0], [0], [0], [0], [0]]  \n",
       "SwishT_A     0.000000                          [[0], [0], [0], [0], [0]]  "
      ]
     },
     "metadata": {},
     "output_type": "display_data"
    },
    {
     "name": "stdout",
     "output_type": "stream",
     "text": [
      "T\n",
      "55\n",
      "T\n",
      "55\n",
      "T\n",
      "55\n",
      "T\n",
      "55\n",
      "T\n",
      "55\n"
     ]
    },
    {
     "data": {
      "image/png": "[encoded data removed]",
      "text/plain": [
       "<Figure size 1000x800 with 1 Axes>"
      ]
     },
     "metadata": {},
     "output_type": "display_data"
    },
    {
     "data": {
      "text/html": [
       "<div>\n",
       "<style scoped>\n",
       "    .dataframe tbody tr th:only-of-type {\n",
       "        vertical-align: middle;\n",
       "    }\n",
       "\n",
       "    .dataframe tbody tr th {\n",
       "        vertical-align: top;\n",
       "    }\n",
       "\n",
       "    .dataframe thead th {\n",
       "        text-align: right;\n",
       "    }\n",
       "</style>\n",
       "<table border=\"1\" class=\"dataframe\">\n",
       "  <thead>\n",
       "    <tr style=\"text-align: right;\">\n",
       "      <th></th>\n",
       "      <th>Mean of top1</th>\n",
       "      <th>Std of top1</th>\n",
       "      <th>Mean of top5</th>\n",
       "      <th>Std of top5</th>\n",
       "      <th>Mean of beta</th>\n",
       "      <th>Std of beta</th>\n",
       "      <th>Betas</th>\n",
       "    </tr>\n",
       "  </thead>\n",
       "  <tbody>\n",
       "    <tr>\n",
       "      <th>SwishT</th>\n",
       "      <td>95.534</td>\n",
       "      <td>0.143332</td>\n",
       "      <td>0.0</td>\n",
       "      <td>0.0</td>\n",
       "      <td>-5.734928</td>\n",
       "      <td>0.086656</td>\n",
       "      <td>[[-5.6], [-5.8], [-5.75], [-5.84], [-5.69]]</td>\n",
       "    </tr>\n",
       "    <tr>\n",
       "      <th>ASN</th>\n",
       "      <td>95.532</td>\n",
       "      <td>0.102645</td>\n",
       "      <td>0.0</td>\n",
       "      <td>0.0</td>\n",
       "      <td>-6.650751</td>\n",
       "      <td>0.112624</td>\n",
       "      <td>[[-6.51], [-6.83], [-6.7], [-6.66], [-6.55]]</td>\n",
       "    </tr>\n",
       "    <tr>\n",
       "      <th>Swish</th>\n",
       "      <td>95.486</td>\n",
       "      <td>0.070314</td>\n",
       "      <td>0.0</td>\n",
       "      <td>0.0</td>\n",
       "      <td>5.810719</td>\n",
       "      <td>0.115820</td>\n",
       "      <td>[[5.65], [6.0], [5.78], [5.85], [5.77]]</td>\n",
       "    </tr>\n",
       "    <tr>\n",
       "      <th>SliuT</th>\n",
       "      <td>95.320</td>\n",
       "      <td>0.081240</td>\n",
       "      <td>0.0</td>\n",
       "      <td>0.0</td>\n",
       "      <td>-6.572053</td>\n",
       "      <td>0.071449</td>\n",
       "      <td>[[-6.64], [-6.47], [-6.56], [-6.67], [-6.52], ...</td>\n",
       "    </tr>\n",
       "    <tr>\n",
       "      <th>SwishT_C</th>\n",
       "      <td>95.286</td>\n",
       "      <td>0.058515</td>\n",
       "      <td>0.0</td>\n",
       "      <td>0.0</td>\n",
       "      <td>1.426628</td>\n",
       "      <td>0.054089</td>\n",
       "      <td>[[1.43], [1.39], [1.4], [1.53], [1.38]]</td>\n",
       "    </tr>\n",
       "    <tr>\n",
       "      <th>SwishT_B</th>\n",
       "      <td>95.168</td>\n",
       "      <td>0.213860</td>\n",
       "      <td>0.0</td>\n",
       "      <td>0.0</td>\n",
       "      <td>1.486180</td>\n",
       "      <td>0.087307</td>\n",
       "      <td>[[1.51], [1.4], [1.38], [1.52], [1.62]]</td>\n",
       "    </tr>\n",
       "    <tr>\n",
       "      <th>GELU</th>\n",
       "      <td>94.786</td>\n",
       "      <td>0.157048</td>\n",
       "      <td>0.0</td>\n",
       "      <td>0.0</td>\n",
       "      <td>0.000000</td>\n",
       "      <td>0.000000</td>\n",
       "      <td>[[0], [0], [0], [0], [0]]</td>\n",
       "    </tr>\n",
       "    <tr>\n",
       "      <th>Mish</th>\n",
       "      <td>94.358</td>\n",
       "      <td>0.124964</td>\n",
       "      <td>0.0</td>\n",
       "      <td>0.0</td>\n",
       "      <td>0.000000</td>\n",
       "      <td>0.000000</td>\n",
       "      <td>[[0], [0], [0], [0], [0]]</td>\n",
       "    </tr>\n",
       "    <tr>\n",
       "      <th>SiLU</th>\n",
       "      <td>94.224</td>\n",
       "      <td>0.166925</td>\n",
       "      <td>0.0</td>\n",
       "      <td>0.0</td>\n",
       "      <td>0.000000</td>\n",
       "      <td>0.000000</td>\n",
       "      <td>[[0], [0], [0], [0], [0]]</td>\n",
       "    </tr>\n",
       "    <tr>\n",
       "      <th>SwishT_A</th>\n",
       "      <td>94.174</td>\n",
       "      <td>0.122082</td>\n",
       "      <td>0.0</td>\n",
       "      <td>0.0</td>\n",
       "      <td>0.000000</td>\n",
       "      <td>0.000000</td>\n",
       "      <td>[[0], [0], [0], [0], [0]]</td>\n",
       "    </tr>\n",
       "  </tbody>\n",
       "</table>\n",
       "</div>"
      ],
      "text/plain": [
       "          Mean of top1  Std of top1  Mean of top5  Std of top5  Mean of beta  \\\n",
       "SwishT          95.534     0.143332           0.0          0.0     -5.734928   \n",
       "ASN             95.532     0.102645           0.0          0.0     -6.650751   \n",
       "Swish           95.486     0.070314           0.0          0.0      5.810719   \n",
       "SliuT           95.320     0.081240           0.0          0.0     -6.572053   \n",
       "SwishT_C        95.286     0.058515           0.0          0.0      1.426628   \n",
       "SwishT_B        95.168     0.213860           0.0          0.0      1.486180   \n",
       "GELU            94.786     0.157048           0.0          0.0      0.000000   \n",
       "Mish            94.358     0.124964           0.0          0.0      0.000000   \n",
       "SiLU            94.224     0.166925           0.0          0.0      0.000000   \n",
       "SwishT_A        94.174     0.122082           0.0          0.0      0.000000   \n",
       "\n",
       "          Std of beta                                              Betas  \n",
       "SwishT       0.086656        [[-5.6], [-5.8], [-5.75], [-5.84], [-5.69]]  \n",
       "ASN          0.112624       [[-6.51], [-6.83], [-6.7], [-6.66], [-6.55]]  \n",
       "Swish        0.115820            [[5.65], [6.0], [5.78], [5.85], [5.77]]  \n",
       "SliuT        0.071449  [[-6.64], [-6.47], [-6.56], [-6.67], [-6.52], ...  \n",
       "SwishT_C     0.054089            [[1.43], [1.39], [1.4], [1.53], [1.38]]  \n",
       "SwishT_B     0.087307            [[1.51], [1.4], [1.38], [1.52], [1.62]]  \n",
       "GELU         0.000000                          [[0], [0], [0], [0], [0]]  \n",
       "Mish         0.000000                          [[0], [0], [0], [0], [0]]  \n",
       "SiLU         0.000000                          [[0], [0], [0], [0], [0]]  \n",
       "SwishT_A     0.000000                          [[0], [0], [0], [0], [0]]  "
      ]
     },
     "execution_count": 60,
     "metadata": {},
     "output_type": "execute_result"
    }
   ],
   "source": [
    "# base activations \n",
    "from experiments.activation.acts import *\n",
    "from pprint import pprint\n",
    "\n",
    "############# 1.1 M Resnet18 CIFAR10/100 result ##############\n",
    "folder_path = './checkpoint/dev_cifar100' \n",
    "repeats = 5  # Total number of repeats\n",
    "activation_fns = get_activations(return_type='list')\n",
    "activation_fns = [act.__class__.__name__ for act in activation_fns]\n",
    "activation_fns = ['SwishT','SliuT','ASN','Swish','Mish','GELU','SiLU']\n",
    "activation_fns += ['SwishT_A','SwishT_B','SwishT_C','SliuT']\n",
    "\n",
    "accuracies_dict = load_model_checkpoints(folder_path, activation_fns, repeats)\n",
    "\n",
    "# Plot the boxplot for comparison\n",
    "plot_accuracies_boxplot(accuracies_dict,accuracy_type='top1')\n",
    "plot_accuracies_boxplot(accuracies_dict,accuracy_type='top5')\n",
    "df = summarize_accuracies(accuracies_dict)\n",
    "display(df.sort_values(by='Mean of top1',ascending=False))\n",
    "\n",
    "############## CIFAR10\n",
    "folder_path = './checkpoint/dev_cifar10' \n",
    "# activation_fns = ['SwishT','SliuT','ASN','Swish','Mish','GELU','SiLU']\n",
    "accuracies_dict = load_model_checkpoints(folder_path, activation_fns, repeats)\n",
    "plot_accuracies_boxplot(accuracies_dict,accuracy_type='top1')\n",
    "df = summarize_accuracies(accuracies_dict)\n",
    "df.sort_values(by='Mean of top1',ascending=False)"
   ]
  },
  {
   "cell_type": "code",
   "execution_count": 19,
   "metadata": {},
   "outputs": [
    {
     "data": {
      "image/png": "[encoded data removed]",
      "text/plain": [
       "<Figure size 1100x800 with 1 Axes>"
      ]
     },
     "metadata": {},
     "output_type": "display_data"
    },
    {
     "data": {
      "image/png": "[encoded data removed]",
      "text/plain": [
       "<Figure size 1100x800 with 1 Axes>"
      ]
     },
     "metadata": {},
     "output_type": "display_data"
    }
   ],
   "source": [
    "from experiments.activation.acts import *\n",
    "folder_path = '../pytorch_resnet_cifar10/checkpoint/dev_cifar10/save_resnet44'\n",
    "# folder_path = '../pytorch-cifar/checkpoint/dev_cifar100' \n",
    "repeats = 5  # Total number of repeats\n",
    "activation_fns = get_activations(return_type='list')\n",
    "activation_fns = [act.__name__ for act in activation_fns]\n",
    "activation_fns += ['SwishT_A','SwishT_B','SwishT_C','SwishT','Swish','GELU','Mish','SiLU','SliuT']\n",
    "activation_fns.remove('ErfAct')\n",
    "activation_fns.remove('SliuT')\n",
    "# Load model checkpoints and gather accuracies\n",
    "accuracies_dict = load_model_checkpoints(folder_path, activation_fns, repeats)\n",
    "# Plot the boxplot for comparison\n",
    "plot_accuracies_boxplot(accuracies_dict,accuracy_type='top1',figsize=(11,8))\n",
    "plot_accuracies_boxplot(accuracies_dict,accuracy_type='top5',figsize=(11,8))\n"
   ]
  },
  {
   "cell_type": "code",
   "execution_count": 18,
   "metadata": {},
   "outputs": [
    {
     "data": {
      "text/html": [
       "<div>\n",
       "<style scoped>\n",
       "    .dataframe tbody tr th:only-of-type {\n",
       "        vertical-align: middle;\n",
       "    }\n",
       "\n",
       "    .dataframe tbody tr th {\n",
       "        vertical-align: top;\n",
       "    }\n",
       "\n",
       "    .dataframe thead th {\n",
       "        text-align: right;\n",
       "    }\n",
       "</style>\n",
       "<table border=\"1\" class=\"dataframe\">\n",
       "  <thead>\n",
       "    <tr style=\"text-align: right;\">\n",
       "      <th></th>\n",
       "      <th>Mean of top1</th>\n",
       "      <th>Std of top1</th>\n",
       "      <th>Mean of top5</th>\n",
       "      <th>Std of top5</th>\n",
       "      <th>Mean of beta</th>\n",
       "      <th>Std of beta</th>\n",
       "      <th>Betas</th>\n",
       "    </tr>\n",
       "  </thead>\n",
       "  <tbody>\n",
       "    <tr>\n",
       "      <th>Swish</th>\n",
       "      <td>93.118000</td>\n",
       "      <td>0.125124</td>\n",
       "      <td>0.0</td>\n",
       "      <td>0.0</td>\n",
       "      <td>2.806089</td>\n",
       "      <td>0.011632</td>\n",
       "      <td>[[2.81], [2.83], [2.79], [2.8], [2.81]]</td>\n",
       "    </tr>\n",
       "    <tr>\n",
       "      <th>SwishT_B</th>\n",
       "      <td>93.087500</td>\n",
       "      <td>0.219815</td>\n",
       "      <td>0.0</td>\n",
       "      <td>0.0</td>\n",
       "      <td>1.603794</td>\n",
       "      <td>2.350410</td>\n",
       "      <td>[[2.98], [2.96], [2.94], [-2.47], [2.98], [2.9...</td>\n",
       "    </tr>\n",
       "    <tr>\n",
       "      <th>GELU</th>\n",
       "      <td>93.084000</td>\n",
       "      <td>0.236525</td>\n",
       "      <td>0.0</td>\n",
       "      <td>0.0</td>\n",
       "      <td>0.000000</td>\n",
       "      <td>0.000000</td>\n",
       "      <td>[[0], [0], [0], [0], [0]]</td>\n",
       "    </tr>\n",
       "    <tr>\n",
       "      <th>Mish</th>\n",
       "      <td>93.036000</td>\n",
       "      <td>0.228175</td>\n",
       "      <td>0.0</td>\n",
       "      <td>0.0</td>\n",
       "      <td>0.000000</td>\n",
       "      <td>0.000000</td>\n",
       "      <td>[[0], [0], [0], [0], [0]]</td>\n",
       "    </tr>\n",
       "    <tr>\n",
       "      <th>SwishT_C</th>\n",
       "      <td>92.960000</td>\n",
       "      <td>0.309112</td>\n",
       "      <td>0.0</td>\n",
       "      <td>0.0</td>\n",
       "      <td>2.957189</td>\n",
       "      <td>0.142797</td>\n",
       "      <td>[[3.08], [2.99], [2.72], [3.05], [3.08], [2.99...</td>\n",
       "    </tr>\n",
       "    <tr>\n",
       "      <th>SiLU</th>\n",
       "      <td>92.898000</td>\n",
       "      <td>0.285755</td>\n",
       "      <td>0.0</td>\n",
       "      <td>0.0</td>\n",
       "      <td>0.000000</td>\n",
       "      <td>0.000000</td>\n",
       "      <td>[[0], [0], [0], [0], [0]]</td>\n",
       "    </tr>\n",
       "    <tr>\n",
       "      <th>SMU</th>\n",
       "      <td>92.690000</td>\n",
       "      <td>0.226826</td>\n",
       "      <td>0.0</td>\n",
       "      <td>0.0</td>\n",
       "      <td>0.000000</td>\n",
       "      <td>0.000000</td>\n",
       "      <td>[[0], [0], [0], [0]]</td>\n",
       "    </tr>\n",
       "    <tr>\n",
       "      <th>SwishT</th>\n",
       "      <td>92.640556</td>\n",
       "      <td>1.308305</td>\n",
       "      <td>0.0</td>\n",
       "      <td>0.0</td>\n",
       "      <td>0.273753</td>\n",
       "      <td>2.375599</td>\n",
       "      <td>[[3.08], [-2.7], [2.98], [0], [0], [2.99], [2....</td>\n",
       "    </tr>\n",
       "    <tr>\n",
       "      <th>Pserf</th>\n",
       "      <td>91.967500</td>\n",
       "      <td>0.271420</td>\n",
       "      <td>0.0</td>\n",
       "      <td>0.0</td>\n",
       "      <td>0.000000</td>\n",
       "      <td>0.000000</td>\n",
       "      <td>[[0], [0], [0], [0]]</td>\n",
       "    </tr>\n",
       "    <tr>\n",
       "      <th>SwishT_A</th>\n",
       "      <td>91.720000</td>\n",
       "      <td>2.197717</td>\n",
       "      <td>0.0</td>\n",
       "      <td>0.0</td>\n",
       "      <td>0.000000</td>\n",
       "      <td>0.000000</td>\n",
       "      <td>[[0], [0], [0], [0], [0], [0], [0], [0], [0], ...</td>\n",
       "    </tr>\n",
       "  </tbody>\n",
       "</table>\n",
       "</div>"
      ],
      "text/plain": [
       "          Mean of top1  Std of top1  Mean of top5  Std of top5  Mean of beta  \\\n",
       "Swish        93.118000     0.125124           0.0          0.0      2.806089   \n",
       "SwishT_B     93.087500     0.219815           0.0          0.0      1.603794   \n",
       "GELU         93.084000     0.236525           0.0          0.0      0.000000   \n",
       "Mish         93.036000     0.228175           0.0          0.0      0.000000   \n",
       "SwishT_C     92.960000     0.309112           0.0          0.0      2.957189   \n",
       "SiLU         92.898000     0.285755           0.0          0.0      0.000000   \n",
       "SMU          92.690000     0.226826           0.0          0.0      0.000000   \n",
       "SwishT       92.640556     1.308305           0.0          0.0      0.273753   \n",
       "Pserf        91.967500     0.271420           0.0          0.0      0.000000   \n",
       "SwishT_A     91.720000     2.197717           0.0          0.0      0.000000   \n",
       "\n",
       "          Std of beta                                              Betas  \n",
       "Swish        0.011632            [[2.81], [2.83], [2.79], [2.8], [2.81]]  \n",
       "SwishT_B     2.350410  [[2.98], [2.96], [2.94], [-2.47], [2.98], [2.9...  \n",
       "GELU         0.000000                          [[0], [0], [0], [0], [0]]  \n",
       "Mish         0.000000                          [[0], [0], [0], [0], [0]]  \n",
       "SwishT_C     0.142797  [[3.08], [2.99], [2.72], [3.05], [3.08], [2.99...  \n",
       "SiLU         0.000000                          [[0], [0], [0], [0], [0]]  \n",
       "SMU          0.000000                               [[0], [0], [0], [0]]  \n",
       "SwishT       2.375599  [[3.08], [-2.7], [2.98], [0], [0], [2.99], [2....  \n",
       "Pserf        0.000000                               [[0], [0], [0], [0]]  \n",
       "SwishT_A     0.000000  [[0], [0], [0], [0], [0], [0], [0], [0], [0], ...  "
      ]
     },
     "execution_count": 18,
     "metadata": {},
     "output_type": "execute_result"
    }
   ],
   "source": [
    "df = summarize_accuracies(accuracies_dict)\n",
    "df.sort_values(by='Mean of top1',ascending=False)"
   ]
  },
  {
   "cell_type": "code",
   "execution_count": 116,
   "metadata": {},
   "outputs": [
    {
     "data": {
      "text/html": [
       "<div>\n",
       "<style scoped>\n",
       "    .dataframe tbody tr th:only-of-type {\n",
       "        vertical-align: middle;\n",
       "    }\n",
       "\n",
       "    .dataframe tbody tr th {\n",
       "        vertical-align: top;\n",
       "    }\n",
       "\n",
       "    .dataframe thead th {\n",
       "        text-align: right;\n",
       "    }\n",
       "</style>\n",
       "<table border=\"1\" class=\"dataframe\">\n",
       "  <thead>\n",
       "    <tr style=\"text-align: right;\">\n",
       "      <th></th>\n",
       "      <th></th>\n",
       "      <th>Mean of top1</th>\n",
       "      <th>Std of top1</th>\n",
       "      <th>Mean of top5</th>\n",
       "      <th>Std of top5</th>\n",
       "      <th>Mean of beta</th>\n",
       "      <th>Std of beta</th>\n",
       "      <th>Betas</th>\n",
       "    </tr>\n",
       "    <tr>\n",
       "      <th>Trainable</th>\n",
       "      <th>Activation Function</th>\n",
       "      <th></th>\n",
       "      <th></th>\n",
       "      <th></th>\n",
       "      <th></th>\n",
       "      <th></th>\n",
       "      <th></th>\n",
       "      <th></th>\n",
       "    </tr>\n",
       "  </thead>\n",
       "  <tbody>\n",
       "    <tr>\n",
       "      <th rowspan=\"4\" valign=\"top\">No</th>\n",
       "      <th>GELU</th>\n",
       "      <td>92.132</td>\n",
       "      <td>0.046217</td>\n",
       "      <td>0.0</td>\n",
       "      <td>0.0</td>\n",
       "      <td>0.000000</td>\n",
       "      <td>0.000000</td>\n",
       "      <td>[[0], [0], [0], [0], [0]]</td>\n",
       "    </tr>\n",
       "    <tr>\n",
       "      <th>Mish</th>\n",
       "      <td>92.134</td>\n",
       "      <td>0.125316</td>\n",
       "      <td>0.0</td>\n",
       "      <td>0.0</td>\n",
       "      <td>0.000000</td>\n",
       "      <td>0.000000</td>\n",
       "      <td>[[0], [0], [0], [0], [0]]</td>\n",
       "    </tr>\n",
       "    <tr>\n",
       "      <th>SiLU</th>\n",
       "      <td>92.212</td>\n",
       "      <td>0.111606</td>\n",
       "      <td>0.0</td>\n",
       "      <td>0.0</td>\n",
       "      <td>0.000000</td>\n",
       "      <td>0.000000</td>\n",
       "      <td>[[0], [0], [0], [0], [0]]</td>\n",
       "    </tr>\n",
       "    <tr>\n",
       "      <th>SwishT_A (ours)</th>\n",
       "      <td>92.454</td>\n",
       "      <td>0.183259</td>\n",
       "      <td>0.0</td>\n",
       "      <td>0.0</td>\n",
       "      <td>0.000000</td>\n",
       "      <td>0.000000</td>\n",
       "      <td>[[0], [0], [0], [0], [0], [0], [0], [0], [0], ...</td>\n",
       "    </tr>\n",
       "    <tr>\n",
       "      <th rowspan=\"7\" valign=\"top\">Yes</th>\n",
       "      <th>ErfAct</th>\n",
       "      <td>91.538</td>\n",
       "      <td>0.265586</td>\n",
       "      <td>0.0</td>\n",
       "      <td>0.0</td>\n",
       "      <td>1.571838</td>\n",
       "      <td>0.015612</td>\n",
       "      <td>[[1.56], [1.57], [1.55], [1.6], [1.58]]</td>\n",
       "    </tr>\n",
       "    <tr>\n",
       "      <th>Pserf</th>\n",
       "      <td>91.662</td>\n",
       "      <td>0.123353</td>\n",
       "      <td>0.0</td>\n",
       "      <td>0.0</td>\n",
       "      <td>0.000000</td>\n",
       "      <td>0.000000</td>\n",
       "      <td>[[0], [0], [0], [0], [0]]</td>\n",
       "    </tr>\n",
       "    <tr>\n",
       "      <th>SMU</th>\n",
       "      <td>92.150</td>\n",
       "      <td>0.159374</td>\n",
       "      <td>0.0</td>\n",
       "      <td>0.0</td>\n",
       "      <td>0.000000</td>\n",
       "      <td>0.000000</td>\n",
       "      <td>[[0], [0], [0], [0], [0]]</td>\n",
       "    </tr>\n",
       "    <tr>\n",
       "      <th>Swish</th>\n",
       "      <td>92.186</td>\n",
       "      <td>0.170950</td>\n",
       "      <td>0.0</td>\n",
       "      <td>0.0</td>\n",
       "      <td>2.191498</td>\n",
       "      <td>0.091794</td>\n",
       "      <td>[[2.25], [2.2], [2.23], [2.26], [2.01]]</td>\n",
       "    </tr>\n",
       "    <tr>\n",
       "      <th>SwishT (ours)</th>\n",
       "      <td>92.280</td>\n",
       "      <td>0.240894</td>\n",
       "      <td>0.0</td>\n",
       "      <td>0.0</td>\n",
       "      <td>1.705664</td>\n",
       "      <td>0.991577</td>\n",
       "      <td>[[0], [2.2], [2.38], [2.2], [2.46], [0], [2.35...</td>\n",
       "    </tr>\n",
       "    <tr>\n",
       "      <th>SwishT_B (ours)</th>\n",
       "      <td>92.224</td>\n",
       "      <td>0.208672</td>\n",
       "      <td>0.0</td>\n",
       "      <td>0.0</td>\n",
       "      <td>2.335300</td>\n",
       "      <td>0.079487</td>\n",
       "      <td>[[2.38], [2.35], [2.43], [2.32], [2.19], [2.38...</td>\n",
       "    </tr>\n",
       "    <tr>\n",
       "      <th>SwishT_C (ours)</th>\n",
       "      <td>92.164</td>\n",
       "      <td>0.154738</td>\n",
       "      <td>0.0</td>\n",
       "      <td>0.0</td>\n",
       "      <td>2.356263</td>\n",
       "      <td>0.094950</td>\n",
       "      <td>[[2.2], [2.46], [2.31], [2.43], [2.39], [2.2],...</td>\n",
       "    </tr>\n",
       "  </tbody>\n",
       "</table>\n",
       "</div>"
      ],
      "text/plain": [
       "                               Mean of top1  Std of top1  Mean of top5  \\\n",
       "Trainable Activation Function                                            \n",
       "No        GELU                       92.132     0.046217           0.0   \n",
       "          Mish                       92.134     0.125316           0.0   \n",
       "          SiLU                       92.212     0.111606           0.0   \n",
       "          SwishT_A (ours)            92.454     0.183259           0.0   \n",
       "Yes       ErfAct                     91.538     0.265586           0.0   \n",
       "          Pserf                      91.662     0.123353           0.0   \n",
       "          SMU                        92.150     0.159374           0.0   \n",
       "          Swish                      92.186     0.170950           0.0   \n",
       "          SwishT (ours)              92.280     0.240894           0.0   \n",
       "          SwishT_B (ours)            92.224     0.208672           0.0   \n",
       "          SwishT_C (ours)            92.164     0.154738           0.0   \n",
       "\n",
       "                               Std of top5  Mean of beta  Std of beta  \\\n",
       "Trainable Activation Function                                           \n",
       "No        GELU                         0.0      0.000000     0.000000   \n",
       "          Mish                         0.0      0.000000     0.000000   \n",
       "          SiLU                         0.0      0.000000     0.000000   \n",
       "          SwishT_A (ours)              0.0      0.000000     0.000000   \n",
       "Yes       ErfAct                       0.0      1.571838     0.015612   \n",
       "          Pserf                        0.0      0.000000     0.000000   \n",
       "          SMU                          0.0      0.000000     0.000000   \n",
       "          Swish                        0.0      2.191498     0.091794   \n",
       "          SwishT (ours)                0.0      1.705664     0.991577   \n",
       "          SwishT_B (ours)              0.0      2.335300     0.079487   \n",
       "          SwishT_C (ours)              0.0      2.356263     0.094950   \n",
       "\n",
       "                                                                           Betas  \n",
       "Trainable Activation Function                                                     \n",
       "No        GELU                                         [[0], [0], [0], [0], [0]]  \n",
       "          Mish                                         [[0], [0], [0], [0], [0]]  \n",
       "          SiLU                                         [[0], [0], [0], [0], [0]]  \n",
       "          SwishT_A (ours)      [[0], [0], [0], [0], [0], [0], [0], [0], [0], ...  \n",
       "Yes       ErfAct                         [[1.56], [1.57], [1.55], [1.6], [1.58]]  \n",
       "          Pserf                                        [[0], [0], [0], [0], [0]]  \n",
       "          SMU                                          [[0], [0], [0], [0], [0]]  \n",
       "          Swish                          [[2.25], [2.2], [2.23], [2.26], [2.01]]  \n",
       "          SwishT (ours)        [[0], [2.2], [2.38], [2.2], [2.46], [0], [2.35...  \n",
       "          SwishT_B (ours)      [[2.38], [2.35], [2.43], [2.32], [2.19], [2.38...  \n",
       "          SwishT_C (ours)      [[2.2], [2.46], [2.31], [2.43], [2.39], [2.2],...  "
      ]
     },
     "execution_count": 116,
     "metadata": {},
     "output_type": "execute_result"
    }
   ],
   "source": [
    "\n",
    "def reindex_dataframe_with_trainability(df:pd.DataFrame, non_trainable_funcs, ours,drop_act):\n",
    "    \"\"\"Modify DataFrame index to include trainability status and move specified functions to the bottom of each group.\n",
    "\n",
    "    Args:\n",
    "        df (pd.DataFrame): The DataFrame to modify.\n",
    "        non_trainable_funcs (list): List of function names considered non-trainable.\n",
    "        ours (list): List of function names that should be labeled as \"(ours)\" and moved to the bottom.\n",
    "\n",
    "    Returns:\n",
    "        pd.DataFrame: The DataFrame with the updated MultiIndex and modified function names.\n",
    "    \"\"\"\n",
    "    df = df.copy()\n",
    "    df['Trainable'] = df.index.to_series().apply(lambda x: 'No' if x in non_trainable_funcs else 'Yes')\n",
    "    df['Sort Key'] = df.index.to_series().apply(lambda x: x + ' (ours)' if x in ours else x)\n",
    "    df['Sort Priority'] = df.index.to_series().apply(lambda x: 1 if x in ours else 0)\n",
    "    df_sorted = df.sort_values(by=['Trainable', 'Sort Priority', 'Sort Key'])\n",
    "    df_sorted.index = pd.MultiIndex.from_arrays([df_sorted['Trainable'], df_sorted['Sort Key']], names=['Trainable', 'Activation Function'])\n",
    "    df_sorted = df_sorted.drop(columns=['Trainable', 'Sort Key', 'Sort Priority'])\n",
    "\n",
    "    df_sorted.drop(drop_act, level='Activation Function',inplace=True)\n",
    "\n",
    "    return df_sorted\n",
    "\n",
    "reindex_dataframe_with_trainability(df,['GELU','Mish','SiLU','SwishT_A'],\n",
    "                                    ['SwishT','SwishT_A','SwishT_B','SwishT_C'],\n",
    "                                    ['SliuT'])"
   ]
  },
  {
   "cell_type": "code",
   "execution_count": 76,
   "metadata": {},
   "outputs": [
    {
     "name": "stderr",
     "output_type": "stream",
     "text": [
      "/usr/local/lib/python3.10/dist-packages/numpy/core/fromnumeric.py:3464: RuntimeWarning: Mean of empty slice.\n",
      "  return _methods._mean(a, axis=axis, dtype=dtype,\n",
      "/usr/local/lib/python3.10/dist-packages/numpy/core/_methods.py:192: RuntimeWarning: invalid value encountered in scalar divide\n",
      "  ret = ret.dtype.type(ret / rcount)\n",
      "/usr/local/lib/python3.10/dist-packages/numpy/core/_methods.py:269: RuntimeWarning: Degrees of freedom <= 0 for slice\n",
      "  ret = _var(a, axis=axis, dtype=dtype, out=out, ddof=ddof,\n",
      "/usr/local/lib/python3.10/dist-packages/numpy/core/_methods.py:226: RuntimeWarning: invalid value encountered in divide\n",
      "  arrmean = um.true_divide(arrmean, div, out=arrmean,\n",
      "/usr/local/lib/python3.10/dist-packages/numpy/core/_methods.py:261: RuntimeWarning: invalid value encountered in scalar divide\n",
      "  ret = ret.dtype.type(ret / rcount)\n"
     ]
    },
    {
     "data": {
      "text/html": [
       "<div>\n",
       "<style scoped>\n",
       "    .dataframe tbody tr th:only-of-type {\n",
       "        vertical-align: middle;\n",
       "    }\n",
       "\n",
       "    .dataframe tbody tr th {\n",
       "        vertical-align: top;\n",
       "    }\n",
       "\n",
       "    .dataframe thead th {\n",
       "        text-align: right;\n",
       "    }\n",
       "</style>\n",
       "<table border=\"1\" class=\"dataframe\">\n",
       "  <thead>\n",
       "    <tr style=\"text-align: right;\">\n",
       "      <th></th>\n",
       "      <th>Mean of top1</th>\n",
       "      <th>Std of top1</th>\n",
       "      <th>Mean of top5</th>\n",
       "      <th>Std of top5</th>\n",
       "      <th>Mean of beta</th>\n",
       "      <th>Std of beta</th>\n",
       "    </tr>\n",
       "  </thead>\n",
       "  <tbody>\n",
       "    <tr>\n",
       "      <th>SwishT_B</th>\n",
       "      <td>68.606</td>\n",
       "      <td>0.221684</td>\n",
       "      <td>90.856</td>\n",
       "      <td>0.142352</td>\n",
       "      <td>0.0</td>\n",
       "      <td>0.0</td>\n",
       "    </tr>\n",
       "    <tr>\n",
       "      <th>SwishT_A</th>\n",
       "      <td>68.458</td>\n",
       "      <td>0.238193</td>\n",
       "      <td>90.968</td>\n",
       "      <td>0.240782</td>\n",
       "      <td>0.0</td>\n",
       "      <td>0.0</td>\n",
       "    </tr>\n",
       "    <tr>\n",
       "      <th>SwishT</th>\n",
       "      <td>68.413</td>\n",
       "      <td>0.243374</td>\n",
       "      <td>90.856</td>\n",
       "      <td>0.215601</td>\n",
       "      <td>0.0</td>\n",
       "      <td>0.0</td>\n",
       "    </tr>\n",
       "    <tr>\n",
       "      <th>SiLU</th>\n",
       "      <td>68.384</td>\n",
       "      <td>0.368000</td>\n",
       "      <td>90.888</td>\n",
       "      <td>0.224357</td>\n",
       "      <td>0.0</td>\n",
       "      <td>0.0</td>\n",
       "    </tr>\n",
       "    <tr>\n",
       "      <th>SwishT_C</th>\n",
       "      <td>68.332</td>\n",
       "      <td>0.153023</td>\n",
       "      <td>90.914</td>\n",
       "      <td>0.212094</td>\n",
       "      <td>0.0</td>\n",
       "      <td>0.0</td>\n",
       "    </tr>\n",
       "    <tr>\n",
       "      <th>Swish</th>\n",
       "      <td>68.262</td>\n",
       "      <td>0.174172</td>\n",
       "      <td>90.836</td>\n",
       "      <td>0.130782</td>\n",
       "      <td>0.0</td>\n",
       "      <td>0.0</td>\n",
       "    </tr>\n",
       "    <tr>\n",
       "      <th>Mish</th>\n",
       "      <td>68.210</td>\n",
       "      <td>0.186333</td>\n",
       "      <td>90.844</td>\n",
       "      <td>0.164997</td>\n",
       "      <td>0.0</td>\n",
       "      <td>0.0</td>\n",
       "    </tr>\n",
       "    <tr>\n",
       "      <th>GELU</th>\n",
       "      <td>68.068</td>\n",
       "      <td>0.320462</td>\n",
       "      <td>90.812</td>\n",
       "      <td>0.168689</td>\n",
       "      <td>0.0</td>\n",
       "      <td>0.0</td>\n",
       "    </tr>\n",
       "    <tr>\n",
       "      <th>SliuT</th>\n",
       "      <td>NaN</td>\n",
       "      <td>NaN</td>\n",
       "      <td>NaN</td>\n",
       "      <td>NaN</td>\n",
       "      <td>NaN</td>\n",
       "      <td>NaN</td>\n",
       "    </tr>\n",
       "  </tbody>\n",
       "</table>\n",
       "</div>"
      ],
      "text/plain": [
       "          Mean of top1  Std of top1  Mean of top5  Std of top5  Mean of beta  \\\n",
       "SwishT_B        68.606     0.221684        90.856     0.142352           0.0   \n",
       "SwishT_A        68.458     0.238193        90.968     0.240782           0.0   \n",
       "SwishT          68.413     0.243374        90.856     0.215601           0.0   \n",
       "SiLU            68.384     0.368000        90.888     0.224357           0.0   \n",
       "SwishT_C        68.332     0.153023        90.914     0.212094           0.0   \n",
       "Swish           68.262     0.174172        90.836     0.130782           0.0   \n",
       "Mish            68.210     0.186333        90.844     0.164997           0.0   \n",
       "GELU            68.068     0.320462        90.812     0.168689           0.0   \n",
       "SliuT              NaN          NaN           NaN          NaN           NaN   \n",
       "\n",
       "          Std of beta  \n",
       "SwishT_B          0.0  \n",
       "SwishT_A          0.0  \n",
       "SwishT            0.0  \n",
       "SiLU              0.0  \n",
       "SwishT_C          0.0  \n",
       "Swish             0.0  \n",
       "Mish              0.0  \n",
       "GELU              0.0  \n",
       "SliuT             NaN  "
      ]
     },
     "execution_count": 76,
     "metadata": {},
     "output_type": "execute_result"
    }
   ],
   "source": [
    "df = summarize_accuracies(accuracies_dict)\n",
    "df.sort_values(by='Mean of top1',ascending=False)"
   ]
  },
  {
   "cell_type": "code",
   "execution_count": 132,
   "metadata": {},
   "outputs": [
    {
     "data": {
      "text/plain": [
       "dict_keys(['net', 'acc', 'epoch', 'act', 'top1', 'top5'])"
      ]
     },
     "execution_count": 132,
     "metadata": {},
     "output_type": "execute_result"
    }
   ],
   "source": [
    "torch.load('./checkpoint/dev_GLUs_conv_cifar100/3_ckpt_resnet18_CIFAR100_SwiGLU_78.42.pth').keys()"
   ]
  },
  {
   "cell_type": "code",
   "execution_count": 133,
   "metadata": {},
   "outputs": [
    {
     "ename": "TypeError",
     "evalue": "load_model_checkpoints() takes 3 positional arguments but 4 were given",
     "output_type": "error",
     "traceback": [
      "\u001b[0;31m---------------------------------------------------------------------------\u001b[0m",
      "\u001b[0;31mTypeError\u001b[0m                                 Traceback (most recent call last)",
      "Cell \u001b[0;32mIn[133], line 3\u001b[0m\n\u001b[1;32m      1\u001b[0m \u001b[38;5;66;03m# Usage example\u001b[39;00m\n\u001b[1;32m      2\u001b[0m folder_path \u001b[38;5;241m=\u001b[39m \u001b[38;5;124m'\u001b[39m\u001b[38;5;124m./checkpoint/dev_GLUs_cifar100\u001b[39m\u001b[38;5;124m'\u001b[39m \n\u001b[0;32m----> 3\u001b[0m accuracies_dict \u001b[38;5;241m=\u001b[39m \u001b[43mload_model_checkpoints\u001b[49m\u001b[43m(\u001b[49m\u001b[43mfolder_path\u001b[49m\u001b[43m,\u001b[49m\u001b[43m \u001b[49m\u001b[43mactivation_fns\u001b[49m\u001b[43m,\u001b[49m\u001b[43m \u001b[49m\u001b[43mrepeats\u001b[49m\u001b[43m,\u001b[49m\u001b[38;5;124;43m'\u001b[39;49m\u001b[38;5;124;43mtop1\u001b[39;49m\u001b[38;5;124;43m'\u001b[39;49m\u001b[43m)\u001b[49m\n\u001b[1;32m      4\u001b[0m plot_accuracies_boxplot(accuracies_dict)\n\u001b[1;32m      5\u001b[0m accuracies_dict \u001b[38;5;241m=\u001b[39m load_model_checkpoints(folder_path, activation_fns, repeats,\u001b[38;5;124m'\u001b[39m\u001b[38;5;124mtop5\u001b[39m\u001b[38;5;124m'\u001b[39m)\n",
      "\u001b[0;31mTypeError\u001b[0m: load_model_checkpoints() takes 3 positional arguments but 4 were given"
     ]
    }
   ],
   "source": [
    "# Usage example\n",
    "folder_path = './checkpoint/dev_GLUs_cifar100' \n",
    "accuracies_dict = load_model_checkpoints(folder_path, activation_fns, repeats,'top1')\n",
    "plot_accuracies_boxplot(accuracies_dict)\n",
    "accuracies_dict = load_model_checkpoints(folder_path, activation_fns, repeats,'top5')\n",
    "plot_accuracies_boxplot(accuracies_dict)"
   ]
  },
  {
   "cell_type": "code",
   "execution_count": 122,
   "metadata": {},
   "outputs": [
    {
     "name": "stdout",
     "output_type": "stream",
     "text": [
      "2113\n",
      "torch.Size([1, 64, 5, 5])\n"
     ]
    }
   ],
   "source": []
  }
 ],
 "metadata": {
  "kernelspec": {
   "display_name": "Python 3",
   "language": "python",
   "name": "python3"
  },
  "language_info": {
   "codemirror_mode": {
    "name": "ipython",
    "version": 3
   },
   "file_extension": ".py",
   "mimetype": "text/x-python",
   "name": "python",
   "nbconvert_exporter": "python",
   "pygments_lexer": "ipython3",
   "version": "3.10.12"
  }
 },
 "nbformat": 4,
 "nbformat_minor": 2
}
