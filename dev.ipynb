{
 "cells": [
  {
   "cell_type": "code",
   "execution_count": 80,
   "metadata": {},
   "outputs": [],
   "source": [
    "import sys\n",
    "sys.path.append('../')\n",
    "import pandas as pd\n",
    "import numpy as np\n",
    "import torch\n",
    "from torch import nn\n",
    "from models.resnet import ResNet18\n",
    "from models.swin_transformer import Swin_transformer\n",
    "\n",
    "# external\n",
    "from experiments.activation.acts import *\n",
    "from experiments.activation.GLUs import *\n",
    "from experiments.util.utils import *\n",
    "\n"
   ]
  },
  {
   "cell_type": "markdown",
   "metadata": {},
   "source": [
    "resnet\n",
    "    batch 128\n",
    "    lr 0.1\n",
    "    "
   ]
  },
  {
   "cell_type": "code",
   "execution_count": 14,
   "metadata": {},
   "outputs": [
    {
     "name": "stdout",
     "output_type": "stream",
     "text": [
      "{'beta': 6.46751594543457}\n",
      "78.42\n",
      "170\n"
     ]
    }
   ],
   "source": [
    "# cifar10 , resnet18, \n",
    "resnet = ResNet18(100,act=Swish())\n",
    "state_dict = torch.load('./checkpoint/dev_cifar100/3_ckpt_resnet18_CIFAR100_Swish_78.42.pth')\n",
    "resnet.load_state_dict(state_dict['net'])\n",
    "print_act_p(resnet)\n",
    "print(state_dict['acc'])\n",
    "print(state_dict['epoch'])"
   ]
  },
  {
   "cell_type": "code",
   "execution_count": 4,
   "metadata": {},
   "outputs": [
    {
     "name": "stdout",
     "output_type": "stream",
     "text": [
      "{'beta': 1.0}\n",
      "76.41\n",
      "189\n"
     ]
    }
   ],
   "source": [
    "# cifar10 , resnet18, SwishT grad False\n",
    "resnet = ResNet18(100,act=SwishT())\n",
    "state_dict = torch.load('./checkpoint/cifar100/ckpt_resnet18_CIFAR100_SwishT.pth')\n",
    "resnet.load_state_dict(state_dict['net'])\n",
    "print_act_p(resnet)\n",
    "print(state_dict['acc'])\n",
    "print(state_dict['epoch'])"
   ]
  },
  {
   "cell_type": "code",
   "execution_count": 12,
   "metadata": {},
   "outputs": [
    {
     "name": "stdout",
     "output_type": "stream",
     "text": [
      "ResNet\n",
      "total params : 11173962\n",
      "ReLU param : {}\n",
      "best acc: 95.43\n",
      "best ep : 197\n"
     ]
    }
   ],
   "source": [
    "# cifar10 , resnet18, Swish\n",
    "resnet = ResNet18(10,act=nn.ReLU())\n",
    "\n",
    "print_results(resnet,'./checkpoint/ckpt_resnet18_ReLU.pth')"
   ]
  },
  {
   "cell_type": "code",
   "execution_count": 10,
   "metadata": {},
   "outputs": [
    {
     "name": "stdout",
     "output_type": "stream",
     "text": [
      "{}\n",
      "76.72\n",
      "199\n"
     ]
    }
   ],
   "source": [
    "# cifar10 , resnet18, Swish\n",
    "resnet = ResNet18(100,act=Mish())\n",
    "state_dict = torch.load('./checkpoint/ckpt_resnet18_cifar100_Mish.pth')\n",
    "resnet.load_state_dict(state_dict['net'])\n",
    "print_act_p(resnet)\n",
    "print(state_dict['acc'])\n",
    "print(state_dict['epoch'])"
   ]
  },
  {
   "cell_type": "code",
   "execution_count": 5,
   "metadata": {},
   "outputs": [
    {
     "name": "stdout",
     "output_type": "stream",
     "text": [
      "92.79\n",
      "194\n"
     ]
    }
   ],
   "source": [
    "# cifar10 , resnet18, Swish\n",
    "resnet = ResNet18(10,act=nn.ELU())\n",
    "state_dict = torch.load('./checkpoint/ckpt_resnet18_ELU.pth')\n",
    "resnet.load_state_dict(state_dict['net'])\n",
    "print_act_p(resnet)\n",
    "print(state_dict['acc'])\n",
    "print(state_dict['epoch'])"
   ]
  },
  {
   "cell_type": "code",
   "execution_count": 8,
   "metadata": {},
   "outputs": [
    {
     "name": "stdout",
     "output_type": "stream",
     "text": [
      "Parameter containing:\n",
      "tensor([5.6681], requires_grad=True)\n",
      "78.1\n",
      "190\n"
     ]
    }
   ],
   "source": [
    "# cifar10 , resnet18, ASN\n",
    "resnet = ResNet18(100,act=ASN())\n",
    "state_dict = torch.load('./checkpoint/ckpt_resnet18_cifar100_ASN.pth')\n",
    "resnet.load_state_dict(state_dict['net'])\n",
    "print_act_p(resnet)\n",
    "print(state_dict['acc'])\n",
    "print(state_dict['epoch'])"
   ]
  },
  {
   "cell_type": "code",
   "execution_count": null,
   "metadata": {},
   "outputs": [],
   "source": []
  },
  {
   "cell_type": "code",
   "execution_count": 3,
   "metadata": {},
   "outputs": [
    {
     "name": "stdout",
     "output_type": "stream",
     "text": [
      "Parameter containing:\n",
      "tensor([5.9302], requires_grad=True)\n",
      "95.35\n",
      "179\n"
     ]
    }
   ],
   "source": [
    "# cifar10 , resnet18, Swish\n",
    "resnet = ResNet18(10,act=Swish())\n",
    "state_dict = torch.load('./checkpoint/ckpt_resnet18_Swish.pth')\n",
    "resnet.load_state_dict(state_dict['net'])\n",
    "print_act_p(resnet)\n",
    "print(state_dict['acc'])\n",
    "print(state_dict['epoch'])"
   ]
  },
  {
   "cell_type": "code",
   "execution_count": 6,
   "metadata": {},
   "outputs": [
    {
     "name": "stdout",
     "output_type": "stream",
     "text": [
      "94.17\n",
      "182\n"
     ]
    }
   ],
   "source": [
    "resnet = ResNet18(10,act=Mish())\n",
    "state_dict = torch.load('./checkpoint/ckpt_resnet18_Mish_94.08.pth')\n",
    "resnet.load_state_dict(state_dict['net'])\n",
    "print_act_p(resnet)\n",
    "print(state_dict['acc'])\n",
    "print(state_dict['epoch'])"
   ]
  },
  {
   "cell_type": "code",
   "execution_count": 20,
   "metadata": {},
   "outputs": [
    {
     "name": "stdout",
     "output_type": "stream",
     "text": [
      "Parameter containing:\n",
      "tensor([-6.7338], requires_grad=True)\n",
      "95.44\n",
      "177\n"
     ]
    }
   ],
   "source": [
    "# cifar10 , resnet18, ASN\n",
    "\n",
    "resnet = ResNet18(10,act=ASN())\n",
    "state_dict = torch.load('./checkpoint/ckpt_resnet18_asn_177_95.44.pth')\n",
    "resnet.load_state_dict(state_dict['net'])\n",
    "print_act_p(resnet)\n",
    "print(state_dict['acc'])\n",
    "print(state_dict['epoch'])"
   ]
  },
  {
   "cell_type": "code",
   "execution_count": 3,
   "metadata": {},
   "outputs": [
    {
     "name": "stdout",
     "output_type": "stream",
     "text": [
      "Parameter containing:\n",
      "tensor([-6.6251], requires_grad=True)\n",
      "95.53\n",
      "184\n"
     ]
    }
   ],
   "source": [
    "# cifar10 , resnet18, SiluT\n",
    "\n",
    "resnet = ResNet18(10,act=SliuT())\n",
    "state_dict = torch.load('./checkpoint/ckpt_resnet18_SliuT_95.37.pth')\n",
    "resnet.load_state_dict(state_dict['net'])\n",
    "print_act_p(resnet)\n",
    "print(state_dict['acc'])\n",
    "print(state_dict['epoch'])"
   ]
  },
  {
   "cell_type": "code",
   "execution_count": 21,
   "metadata": {},
   "outputs": [
    {
     "name": "stdout",
     "output_type": "stream",
     "text": [
      "Parameter containing:\n",
      "tensor([5.9771], requires_grad=True)\n",
      "95.27\n",
      "171\n"
     ]
    }
   ],
   "source": [
    "# cifar10 , resnet18, sASN\n",
    "\n",
    "resnet = ResNet18(10,act=sASN())\n",
    "state_dict = torch.load('./checkpoint/ckpt_resnet18_sasn_177_95.18.pth')\n",
    "resnet.load_state_dict(state_dict['net'])\n",
    "print_act_p(resnet)\n",
    "print(state_dict['acc'])\n",
    "print(state_dict['epoch'])"
   ]
  },
  {
   "cell_type": "code",
   "execution_count": 22,
   "metadata": {},
   "outputs": [
    {
     "name": "stdout",
     "output_type": "stream",
     "text": [
      "94.63\n",
      "177\n"
     ]
    }
   ],
   "source": [
    "# cifar10 , resnet18, Relu\n",
    "\n",
    "resnet = ResNet18(10,act=nn.ReLU())\n",
    "state_dict = torch.load('./checkpoint/ckpt_resnet18_relu_177_94.63.pth')\n",
    "resnet.load_state_dict(state_dict['net'])\n",
    "print_act_p(resnet)\n",
    "print(state_dict['acc'])\n",
    "print(state_dict['epoch'])"
   ]
  },
  {
   "cell_type": "code",
   "execution_count": 23,
   "metadata": {},
   "outputs": [
    {
     "name": "stdout",
     "output_type": "stream",
     "text": [
      "95.05\n",
      "199\n"
     ]
    }
   ],
   "source": [
    "# cifar10 , resnet18, gelu\n",
    "\n",
    "resnet = ResNet18(10,act=nn.GELU())\n",
    "state_dict = torch.load('./checkpoint/ckpt_resnet18_GELU_199_95.05.pth')\n",
    "resnet.load_state_dict(state_dict['net'])\n",
    "print_act_p(resnet)\n",
    "print(state_dict['acc'])\n",
    "print(state_dict['epoch'])"
   ]
  },
  {
   "cell_type": "code",
   "execution_count": null,
   "metadata": {},
   "outputs": [],
   "source": [
    "# cifar10 , resnet18, Relu\n",
    "\n",
    "resnet = ResNet18(10,act=nn.ReLU())\n",
    "state_dict = torch.load('./checkpoint/ckpt_resnet18_relu_177_94.63.pth')\n",
    "resnet.load_state_dict(state_dict['net'])\n",
    "print_act_p(resnet)\n",
    "print(state_dict['acc'])\n",
    "print(state_dict['epoch'])"
   ]
  },
  {
   "cell_type": "code",
   "execution_count": 9,
   "metadata": {},
   "outputs": [
    {
     "name": "stdout",
     "output_type": "stream",
     "text": [
      "Parameter containing:\n",
      "tensor([6.4185], requires_grad=True)\n"
     ]
    }
   ],
   "source": [
    "# cifar100 , resnet18, sASN\n",
    "\n",
    "resnet = ResNet18(100)\n",
    "resnet.load_state_dict(torch.load('./checkpoint/ckpt_resnet18_cifar100_sasn_199_79.59.pth')['net'])\n",
    "print_act_p(resnet)"
   ]
  },
  {
   "cell_type": "code",
   "execution_count": 12,
   "metadata": {},
   "outputs": [
    {
     "name": "stdout",
     "output_type": "stream",
     "text": [
      "Parameter containing:\n",
      "tensor([-6.7338], requires_grad=True)\n"
     ]
    }
   ],
   "source": [
    "# cifar10 , resnet18, ASN\n",
    "\n",
    "resnet = ResNet18(10)\n",
    "resnet.load_state_dict(torch.load('./checkpoint/ckpt_resnet18_asn_177_95.44.pth')['net'])\n",
    "print_act_p(resnet)"
   ]
  },
  {
   "cell_type": "code",
   "execution_count": 10,
   "metadata": {},
   "outputs": [
    {
     "name": "stdout",
     "output_type": "stream",
     "text": [
      "Parameter containing:\n",
      "tensor([5.6681], requires_grad=True)\n",
      "78.1\n",
      "190\n"
     ]
    }
   ],
   "source": [
    "# cifar10 , resnet18, ASN\n",
    "resnet = ResNet18(100,act=ASN())\n",
    "state_dict = torch.load('./checkpoint/ckpt_resnet18_cifar100_ASN_78.10.pth')\n",
    "resnet.load_state_dict(state_dict['net'])\n",
    "print_act_p(resnet)\n",
    "print(state_dict['acc'])\n",
    "print(state_dict['epoch'])"
   ]
  },
  {
   "cell_type": "code",
   "execution_count": 5,
   "metadata": {},
   "outputs": [
    {
     "name": "stdout",
     "output_type": "stream",
     "text": [
      "Parameter containing:\n",
      "tensor([6.4185], requires_grad=True)\n",
      "79.68\n",
      "194\n"
     ]
    }
   ],
   "source": [
    "# cifar100 , resnet18, SwishT\n",
    "\n",
    "resnet = ResNet18(100,act=SwishT())\n",
    "state_dict = torch.load('./checkpoint/ckpt_resnet18_cifar100_sasn_199_79.59.pth')\n",
    "resnet.load_state_dict(state_dict['net'])\n",
    "print_act_p(resnet)\n",
    "print(state_dict['acc'])\n",
    "print(state_dict['epoch'])"
   ]
  },
  {
   "cell_type": "code",
   "execution_count": 11,
   "metadata": {},
   "outputs": [
    {
     "name": "stdout",
     "output_type": "stream",
     "text": [
      "77.03\n",
      "190\n"
     ]
    }
   ],
   "source": [
    "# cifar10 , resnet18, ASN\n",
    "resnet = ResNet18(100,act=Mish())\n",
    "state_dict = torch.load('./checkpoint/ckpt_resnet18_cifar100_Mish.pth')\n",
    "resnet.load_state_dict(state_dict['net'])\n",
    "print_act_p(resnet)\n",
    "print(state_dict['acc'])\n",
    "print(state_dict['epoch'])"
   ]
  },
  {
   "cell_type": "code",
   "execution_count": 14,
   "metadata": {},
   "outputs": [
    {
     "name": "stdout",
     "output_type": "stream",
     "text": [
      "Parameter containing:\n",
      "tensor([5.9771], requires_grad=True)\n"
     ]
    }
   ],
   "source": [
    "# cifar10 , resnet18, sASN=swisht\n",
    "\n",
    "resnet = ResNet18(10)\n",
    "resnet.load_state_dict(torch.load('./checkpoint/ckpt_resnet18_sasn_177_95.18.pth')['net'])\n",
    "print_act_p(resnet)"
   ]
  },
  {
   "cell_type": "code",
   "execution_count": 1,
   "metadata": {},
   "outputs": [
    {
     "ename": "NameError",
     "evalue": "name 'ResNet18' is not defined",
     "output_type": "error",
     "traceback": [
      "\u001b[0;31m---------------------------------------------------------------------------\u001b[0m",
      "\u001b[0;31mNameError\u001b[0m                                 Traceback (most recent call last)",
      "Cell \u001b[0;32mIn[1], line 3\u001b[0m\n\u001b[1;32m      1\u001b[0m \u001b[38;5;66;03m# cifar10 , resnet18, Swish\u001b[39;00m\n\u001b[0;32m----> 3\u001b[0m resnet \u001b[38;5;241m=\u001b[39m \u001b[43mResNet18\u001b[49m(\u001b[38;5;241m10\u001b[39m)\n\u001b[1;32m      4\u001b[0m resnet\u001b[38;5;241m.\u001b[39mload_state_dict(torch\u001b[38;5;241m.\u001b[39mload(\u001b[38;5;124m'\u001b[39m\u001b[38;5;124m./checkpoint/ckpt_resnet18_Swish.pth\u001b[39m\u001b[38;5;124m'\u001b[39m)[\u001b[38;5;124m'\u001b[39m\u001b[38;5;124mnet\u001b[39m\u001b[38;5;124m'\u001b[39m])\n\u001b[1;32m      5\u001b[0m print_act_p(resnet)\n",
      "\u001b[0;31mNameError\u001b[0m: name 'ResNet18' is not defined"
     ]
    }
   ],
   "source": [
    "# cifar10 , resnet18, Swish\n",
    "\n",
    "resnet = ResNet18(10)\n",
    "resnet.load_state_dict(torch.load('./checkpoint/ckpt_resnet18_Swish.pth')['net'])\n",
    "print_act_p(resnet)"
   ]
  },
  {
   "cell_type": "code",
   "execution_count": 8,
   "metadata": {},
   "outputs": [
    {
     "name": "stdout",
     "output_type": "stream",
     "text": [
      "76.74\n",
      "199\n"
     ]
    }
   ],
   "source": [
    "# cifar100 , resnet18, SiLU\n",
    "\n",
    "resnet = ResNet18(100,act=SiLU())\n",
    "state_dict = torch.load('./checkpoint/ckpt_resnet18_cifar100_SiLU_199_76.74.pth')\n",
    "resnet.load_state_dict(state_dict['net'])\n",
    "print_act_p(resnet)\n",
    "print(state_dict['acc'])\n",
    "print(state_dict['epoch'])"
   ]
  },
  {
   "cell_type": "code",
   "execution_count": 12,
   "metadata": {},
   "outputs": [
    {
     "name": "stdout",
     "output_type": "stream",
     "text": [
      "Parameter containing:\n",
      "tensor([6.4133], requires_grad=True)\n",
      "78.13\n",
      "193\n"
     ]
    }
   ],
   "source": [
    "# cifar100 , resnet18, SiLU\n",
    "\n",
    "resnet = ResNet18(100,act=Swish())\n",
    "state_dict = torch.load('./checkpoint/ckpt_resnet18_cifar100_Swish_199_77.92.pth')\n",
    "resnet.load_state_dict(state_dict['net'])\n",
    "print_act_p(resnet)\n",
    "print(state_dict['acc'])\n",
    "print(state_dict['epoch'])"
   ]
  },
  {
   "cell_type": "code",
   "execution_count": 15,
   "metadata": {},
   "outputs": [
    {
     "name": "stdout",
     "output_type": "stream",
     "text": [
      "Parameter containing:\n",
      "tensor([-6.1995], requires_grad=True)\n",
      "94.3\n",
      "162\n"
     ]
    }
   ],
   "source": [
    "# cifar100 , resnet18, SwishT\n",
    "\n",
    "resnet = ResNet18(10,act=SwishT())\n",
    "state_dict = torch.load('./checkpoint/ckpt_resnet18_cifar100_SwishT.pth')\n",
    "resnet.load_state_dict(state_dict['net'])\n",
    "print_act_p(resnet)\n",
    "print(state_dict['acc'])\n",
    "print(state_dict['epoch'])"
   ]
  },
  {
   "cell_type": "code",
   "execution_count": 15,
   "metadata": {},
   "outputs": [
    {
     "name": "stdout",
     "output_type": "stream",
     "text": [
      "Parameter containing:\n",
      "tensor([5.5985], requires_grad=True)\n",
      "77.09\n",
      "198\n"
     ]
    }
   ],
   "source": [
    "# cifar100 , resnet18, SwishT\n",
    "\n",
    "resnet = ResNet18(100,act=Swish())\n",
    "state_dict = torch.load('./checkpoint/ckpt_resnet18_cifar100_gelu_199_76.87.pth')\n",
    "resnet.load_state_dict(state_dict['net'])\n",
    "print_act_p(resnet)\n",
    "print(state_dict['acc'])\n",
    "print(state_dict['epoch'])"
   ]
  },
  {
   "cell_type": "code",
   "execution_count": 4,
   "metadata": {},
   "outputs": [
    {
     "name": "stdout",
     "output_type": "stream",
     "text": [
      "Parameter containing:\n",
      "tensor([6.4185], requires_grad=True)\n",
      "79.68\n",
      "194\n"
     ]
    }
   ],
   "source": [
    "# cifar100 , resnet18, SwishT\n",
    "\n",
    "resnet = ResNet18(100,act=SwishT())\n",
    "state_dict = torch.load('./checkpoint/ckpt_resnet18_cifar100_sasn_199_79.59.pth')\n",
    "resnet.load_state_dict(state_dict['net'])\n",
    "print_act_p(resnet)\n",
    "print(state_dict['acc'])\n",
    "print(state_dict['epoch'])"
   ]
  },
  {
   "cell_type": "code",
   "execution_count": 3,
   "metadata": {},
   "outputs": [
    {
     "name": "stdout",
     "output_type": "stream",
     "text": [
      "Parameter containing:\n",
      "tensor([-7.1654], requires_grad=True)\n",
      "77.72\n",
      "193\n"
     ]
    }
   ],
   "source": [
    "# cifar100 , resnet18, SliuT\n",
    "\n",
    "resnet = ResNet18(100,act=SliuT())\n",
    "state_dict = torch.load('./checkpoint/ckpt_resnet18_cifar100_SliuT.pth')\n",
    "resnet.load_state_dict(state_dict['net'])\n",
    "print_act_p(resnet)\n",
    "print(state_dict['acc'])\n",
    "print(state_dict['epoch'])"
   ]
  },
  {
   "cell_type": "code",
   "execution_count": 13,
   "metadata": {},
   "outputs": [
    {
     "name": "stdout",
     "output_type": "stream",
     "text": [
      "n_classes: 100 img_size: 32 act: SwishT()\n"
     ]
    },
    {
     "ename": "NameError",
     "evalue": "name 'sASN' is not defined",
     "output_type": "error",
     "traceback": [
      "\u001b[0;31m---------------------------------------------------------------------------\u001b[0m",
      "\u001b[0;31mNameError\u001b[0m                                 Traceback (most recent call last)",
      "Cell \u001b[0;32mIn[13], line 3\u001b[0m\n\u001b[1;32m      1\u001b[0m \u001b[38;5;66;03m# cifar100 , swin, sASN\u001b[39;00m\n\u001b[0;32m----> 3\u001b[0m swin,_ \u001b[38;5;241m=\u001b[39m \u001b[43mSwin_transformer\u001b[49m\u001b[43m(\u001b[49m\u001b[43mnum_classes\u001b[49m\u001b[38;5;241;43m=\u001b[39;49m\u001b[38;5;241;43m100\u001b[39;49m\u001b[43m,\u001b[49m\u001b[43mimage_size\u001b[49m\u001b[38;5;241;43m=\u001b[39;49m\u001b[38;5;241;43m32\u001b[39;49m\u001b[43m,\u001b[49m\u001b[43mact\u001b[49m\u001b[38;5;241;43m=\u001b[39;49m\u001b[43mSwishT\u001b[49m\u001b[43m(\u001b[49m\u001b[43m)\u001b[49m\u001b[43m)\u001b[49m\n\u001b[1;32m      4\u001b[0m state_dict \u001b[38;5;241m=\u001b[39m torch\u001b[38;5;241m.\u001b[39mload(\u001b[38;5;124m'\u001b[39m\u001b[38;5;124m./checkpoint/ckpt_swin_sasn_199_65.91.pth\u001b[39m\u001b[38;5;124m'\u001b[39m)\n\u001b[1;32m      5\u001b[0m swin\u001b[38;5;241m.\u001b[39mload_state_dict(state_dict[\u001b[38;5;124m'\u001b[39m\u001b[38;5;124mnet\u001b[39m\u001b[38;5;124m'\u001b[39m])\n",
      "File \u001b[0;32m/workspace/pytorch-cifar/models/swin_transformer.py:352\u001b[0m, in \u001b[0;36mSwin_transformer\u001b[0;34m(num_classes, image_size, act)\u001b[0m\n\u001b[1;32m    346\u001b[0m model \u001b[38;5;241m=\u001b[39m SwinTransformer(num_classes, image_size,\n\u001b[1;32m    347\u001b[0m                     num_blocks_list\u001b[38;5;241m=\u001b[39m[\u001b[38;5;241m4\u001b[39m, \u001b[38;5;241m4\u001b[39m], dims\u001b[38;5;241m=\u001b[39m[\u001b[38;5;241m128\u001b[39m, \u001b[38;5;241m128\u001b[39m, \u001b[38;5;241m256\u001b[39m],\n\u001b[1;32m    348\u001b[0m                     head_dim\u001b[38;5;241m=\u001b[39m\u001b[38;5;241m32\u001b[39m, patch_size\u001b[38;5;241m=\u001b[39m\u001b[38;5;241m2\u001b[39m, window_size\u001b[38;5;241m=\u001b[39m\u001b[38;5;241m4\u001b[39m,\n\u001b[1;32m    349\u001b[0m                     emb_p_drop\u001b[38;5;241m=\u001b[39m\u001b[38;5;241m0.\u001b[39m, trans_p_drop\u001b[38;5;241m=\u001b[39m\u001b[38;5;241m0.\u001b[39m, head_p_drop\u001b[38;5;241m=\u001b[39m\u001b[38;5;241m0.3\u001b[39m,\n\u001b[1;32m    350\u001b[0m                     act\u001b[38;5;241m=\u001b[39mact)\n\u001b[1;32m    351\u001b[0m \u001b[38;5;28mprint\u001b[39m(\u001b[38;5;124m'\u001b[39m\u001b[38;5;124mn_classes:\u001b[39m\u001b[38;5;124m'\u001b[39m,num_classes,\u001b[38;5;124m'\u001b[39m\u001b[38;5;124mimg_size:\u001b[39m\u001b[38;5;124m'\u001b[39m,image_size,\u001b[38;5;124m'\u001b[39m\u001b[38;5;124mact:\u001b[39m\u001b[38;5;124m'\u001b[39m,act)\n\u001b[0;32m--> 352\u001b[0m optimizer \u001b[38;5;241m=\u001b[39m \u001b[43mget_optimizer\u001b[49m\u001b[43m(\u001b[49m\u001b[43mmodel\u001b[49m\u001b[43m,\u001b[49m\u001b[43m \u001b[49m\u001b[43mlearning_rate\u001b[49m\u001b[38;5;241;43m=\u001b[39;49m\u001b[43mLEARNING_RATE\u001b[49m\u001b[43m,\u001b[49m\u001b[43m \u001b[49m\u001b[43mweight_decay\u001b[49m\u001b[38;5;241;43m=\u001b[39;49m\u001b[43mWEIGHT_DECAY\u001b[49m\u001b[43m)\u001b[49m\n\u001b[1;32m    354\u001b[0m \u001b[38;5;28;01mreturn\u001b[39;00m model,optimizer\n",
      "File \u001b[0;32m/workspace/pytorch-cifar/models/swin_transformer.py:333\u001b[0m, in \u001b[0;36mget_optimizer\u001b[0;34m(model, learning_rate, weight_decay)\u001b[0m\n\u001b[1;32m    331\u001b[0m \u001b[38;5;28;01mdef\u001b[39;00m \u001b[38;5;21mget_optimizer\u001b[39m(model, learning_rate, weight_decay):\n\u001b[1;32m    332\u001b[0m     param_dict \u001b[38;5;241m=\u001b[39m {pn: p \u001b[38;5;28;01mfor\u001b[39;00m pn, p \u001b[38;5;129;01min\u001b[39;00m model\u001b[38;5;241m.\u001b[39mnamed_parameters()}\n\u001b[0;32m--> 333\u001b[0m     parameters_decay, parameters_no_decay \u001b[38;5;241m=\u001b[39m \u001b[43mmodel\u001b[49m\u001b[38;5;241;43m.\u001b[39;49m\u001b[43mseparate_parameters\u001b[49m\u001b[43m(\u001b[49m\u001b[43m)\u001b[49m\n\u001b[1;32m    335\u001b[0m     optim_groups \u001b[38;5;241m=\u001b[39m [\n\u001b[1;32m    336\u001b[0m         {\u001b[38;5;124m\"\u001b[39m\u001b[38;5;124mparams\u001b[39m\u001b[38;5;124m\"\u001b[39m: [param_dict[pn] \u001b[38;5;28;01mfor\u001b[39;00m pn \u001b[38;5;129;01min\u001b[39;00m parameters_decay], \u001b[38;5;124m\"\u001b[39m\u001b[38;5;124mweight_decay\u001b[39m\u001b[38;5;124m\"\u001b[39m: weight_decay},\n\u001b[1;32m    337\u001b[0m         {\u001b[38;5;124m\"\u001b[39m\u001b[38;5;124mparams\u001b[39m\u001b[38;5;124m\"\u001b[39m: [param_dict[pn] \u001b[38;5;28;01mfor\u001b[39;00m pn \u001b[38;5;129;01min\u001b[39;00m parameters_no_decay], \u001b[38;5;124m\"\u001b[39m\u001b[38;5;124mweight_decay\u001b[39m\u001b[38;5;124m\"\u001b[39m: \u001b[38;5;241m0.0\u001b[39m},\n\u001b[1;32m    338\u001b[0m     ]\n\u001b[1;32m    339\u001b[0m     optimizer \u001b[38;5;241m=\u001b[39m optim\u001b[38;5;241m.\u001b[39mAdamW(optim_groups, lr\u001b[38;5;241m=\u001b[39mlearning_rate)\n",
      "File \u001b[0;32m/workspace/pytorch-cifar/models/swin_transformer.py:297\u001b[0m, in \u001b[0;36mSwinTransformer.separate_parameters\u001b[0;34m(self)\u001b[0m\n\u001b[1;32m    295\u001b[0m parameters_no_decay \u001b[38;5;241m=\u001b[39m \u001b[38;5;28mset\u001b[39m()\n\u001b[1;32m    296\u001b[0m modules_weight_decay \u001b[38;5;241m=\u001b[39m (nn\u001b[38;5;241m.\u001b[39mLinear, )\n\u001b[0;32m--> 297\u001b[0m modules_no_weight_decay \u001b[38;5;241m=\u001b[39m (nn\u001b[38;5;241m.\u001b[39mLayerNorm,\u001b[43msASN\u001b[49m,Swish)\n\u001b[1;32m    299\u001b[0m \u001b[38;5;28;01mfor\u001b[39;00m m_name, m \u001b[38;5;129;01min\u001b[39;00m \u001b[38;5;28mself\u001b[39m\u001b[38;5;241m.\u001b[39mnamed_modules():\n\u001b[1;32m    300\u001b[0m     \u001b[38;5;28;01mfor\u001b[39;00m param_name, param \u001b[38;5;129;01min\u001b[39;00m m\u001b[38;5;241m.\u001b[39mnamed_parameters():\n",
      "\u001b[0;31mNameError\u001b[0m: name 'sASN' is not defined"
     ]
    }
   ],
   "source": [
    "# cifar100 , swin, sASN\n",
    "\n",
    "swin,_ = Swin_transformer(num_classes=100,image_size=32,act=sASN())\n",
    "state_dict = torch.load('./checkpoint/ckpt_swin_sasn_199_65.91.pth')\n",
    "swin.load_state_dict(state_dict['net'])\n",
    "print_act_p(swin)\n",
    "print(state_dict['acc'])\n",
    "print(state_dict['epoch'])"
   ]
  },
  {
   "cell_type": "code",
   "execution_count": 8,
   "metadata": {},
   "outputs": [
    {
     "name": "stdout",
     "output_type": "stream",
     "text": [
      "n_classes: 100 img_size: 32 act: GELU(approximate='none')\n",
      "55.06\n",
      "197\n"
     ]
    }
   ],
   "source": [
    "# cifar100 , swin, gelu\n",
    "\n",
    "swin,_ = Swin_transformer(num_classes=100,image_size=32,act=nn.GELU())\n",
    "state_dict = torch.load('./checkpoint/ckpt_swin_gelu_199_54.91.pth')\n",
    "swin.load_state_dict(state_dict['net'])\n",
    "print_act_p(swin)\n",
    "print(state_dict['acc'])\n",
    "print(state_dict['epoch'])"
   ]
  },
  {
   "cell_type": "code",
   "execution_count": 9,
   "metadata": {},
   "outputs": [
    {
     "name": "stdout",
     "output_type": "stream",
     "text": [
      "n_classes: 100 img_size: 32 act: sASN()\n",
      "Parameter containing:\n",
      "tensor([1.0343], requires_grad=True)\n",
      "56.3\n",
      "198\n"
     ]
    }
   ],
   "source": [
    "# cifar100 , swin, gelu\n",
    "\n",
    "swin,_ = Swin_transformer(num_classes=100,image_size=32,act=sASN())\n",
    "state_dict = torch.load('./checkpoint/ckpt_swin_sASN_199_56.20.pth')\n",
    "swin.load_state_dict(state_dict['net'])\n",
    "print_act_p(swin)\n",
    "print(state_dict['acc'])\n",
    "print(state_dict['epoch'])"
   ]
  },
  {
   "cell_type": "code",
   "execution_count": 4,
   "metadata": {},
   "outputs": [
    {
     "name": "stdout",
     "output_type": "stream",
     "text": [
      "n_classes: 100 img_size: 32 act: Swish()\n",
      "Parameter containing:\n",
      "tensor([1.0149], requires_grad=True)\n",
      "55.45\n",
      "192\n"
     ]
    }
   ],
   "source": [
    "swin,_ = Swin_transformer(num_classes=100,image_size=32,act=Swish())\n",
    "state_dict = torch.load('./checkpoint/ckpt_swin_Swish_199_54.90.pth')\n",
    "swin.load_state_dict(state_dict['net'])\n",
    "print_act_p(swin)\n",
    "print(state_dict['acc'])\n",
    "print(state_dict['epoch'])"
   ]
  },
  {
   "cell_type": "code",
   "execution_count": 2,
   "metadata": {},
   "outputs": [
    {
     "name": "stdout",
     "output_type": "stream",
     "text": [
      "n_classes: 100 img_size: 32 act: SiLU()\n",
      "55.61\n",
      "191\n"
     ]
    }
   ],
   "source": [
    "# cifar100 , swin, sASN\n",
    "\n",
    "swin,_ = Swin_transformer(num_classes=100,image_size=32,act=SiLU())\n",
    "state_dict = torch.load('./checkpoint/ckpt_swin_SiLU_199_55.30.pth')\n",
    "swin.load_state_dict(state_dict['net'])\n",
    "print_act_p(swin)\n",
    "print(state_dict['acc'])\n",
    "print(state_dict['epoch'])"
   ]
  },
  {
   "cell_type": "code",
   "execution_count": 13,
   "metadata": {},
   "outputs": [
    {
     "name": "stdout",
     "output_type": "stream",
     "text": [
      "n_classes: 100 img_size: 32 act: SiLU()\n",
      "55.61\n",
      "191\n"
     ]
    }
   ],
   "source": [
    "swin,_ = Swin_transformer(num_classes=100,image_size=32,act=SiLU())\n",
    "state_dict = torch.load('./checkpoint/ckpt_swin_SiLU.pth')\n",
    "swin.load_state_dict(state_dict['net'])\n",
    "print_act_p(swin)\n",
    "print(state_dict['acc'])\n",
    "print(state_dict['epoch'])"
   ]
  },
  {
   "cell_type": "code",
   "execution_count": 162,
   "metadata": {},
   "outputs": [],
   "source": [
    "import os\n",
    "import torch\n",
    "import matplotlib.pyplot as plt\n",
    "import numpy as np\n",
    "import fnmatch\n",
    "\n",
    "def load_model_checkpoints(folder_path, activation_fns, repeats):\n",
    "    \"\"\"Load model checkpoints and gather validation accuracies into a structured dictionary.\n",
    "\n",
    "    Args:\n",
    "        folder_path (str): Path to the folder where the checkpoints are saved.\n",
    "        activation_fns (list): List of activation function names as strings.\n",
    "        repeats (int): Number of repeats for each activation function.\n",
    "\n",
    "    Returns:\n",
    "        dict: A dictionary with activation function names as keys and lists of dictionaries (each containing 'top1' and 'top5' accuracies) as values.\n",
    "    \"\"\"\n",
    "    all_accuracies = {act_fn: [] for act_fn in activation_fns}\n",
    "\n",
    "    for act_fn in activation_fns:\n",
    "        # if act_fn == 'GLU': continue\n",
    "        for i in range(1, repeats + 1):\n",
    "            file_name_pattern = f\"{i}_ckpt_*_{act_fn}_*.pth\"\n",
    "            for file_name in os.listdir(folder_path):\n",
    "                if fnmatch.fnmatch(file_name, file_name_pattern):\n",
    "                    checkpoint_path = os.path.join(folder_path, file_name)\n",
    "                    checkpoint = torch.load(checkpoint_path, map_location=torch.device('cpu'))  # Ensure the checkpoint is loaded in CPU mode\n",
    "                    accuracy_data = {\n",
    "                        'top1': checkpoint['top1'],\n",
    "                        'top5': checkpoint['top5'],\n",
    "                    }\n",
    "                    all_accuracies[act_fn].append(accuracy_data)\n",
    "\n",
    "                    if 'act.beta' in checkpoint['net']:\n",
    "                        accuracy_data['beta'] = checkpoint['net']['act.beta'].cpu().numpy()\n",
    "                    else:\n",
    "                        accuracy_data['beta'] = np.array([0])\n",
    "    return all_accuracies\n",
    "\n",
    "def summarize_accuracies(accuracies_dict):\n",
    "    \"\"\"Summarize accuracies into a DataFrame with statistical measures.\n",
    "\n",
    "    Args:\n",
    "        accuracies_dict (dict): A dictionary with activation function names as keys and lists of accuracies as values.\n",
    "                                Each value list contains dictionaries with keys 'top1' and 'top5'.\n",
    "\n",
    "    Returns:\n",
    "        DataFrame: A DataFrame with activation function names as indices and statistical measures as columns.\n",
    "    \"\"\"\n",
    "    # Prepare data for DataFrame\n",
    "    data = []\n",
    "    index = []\n",
    "    for act_fn, results in accuracies_dict.items():\n",
    "        top1_scores = [result['top1'] for result in results]\n",
    "        top5_scores = [result['top5'] for result in results]\n",
    "        betas = [result['beta'] for result in results]\n",
    "\n",
    "        summary = {\n",
    "            'Mean of top1': np.mean(top1_scores),\n",
    "            'Std of top1': np.std(top1_scores),\n",
    "            'Mean of top5': np.mean(top5_scores),\n",
    "            'Std of top5': np.std(top5_scores),\n",
    "            'Mean of beta':np.mean(betas),\n",
    "            'Std of beta': np.std(betas),\n",
    "        }\n",
    "        data.append(summary)\n",
    "        index.append(act_fn)\n",
    "\n",
    "    # Create DataFrame\n",
    "    df = pd.DataFrame(data, index=index)\n",
    "\n",
    "    return df\n",
    "\n",
    "def plot_accuracies_boxplot(accuracies_dict, accuracy_type='top1'):\n",
    "    \"\"\"Plot a boxplot of the accuracies for each activation function based on specified accuracy type ('top1' or 'top5').\n",
    "\n",
    "    Args:\n",
    "        accuracies_dict (dict): A dictionary with activation function names as keys and lists of dictionaries (each containing 'top1' and 'top5' accuracies) as values.\n",
    "        accuracy_type (str): The type of accuracy to plot ('top1' or 'top5').\n",
    "    \"\"\"\n",
    "    labels = list(accuracies_dict.keys())\n",
    "    accuracies = [[result[accuracy_type] for result in accuracies_dict[act_fn]] for act_fn in labels]\n",
    "\n",
    "    fig, ax = plt.subplots()\n",
    "    ax.boxplot(accuracies, labels=labels)\n",
    "    ax.set_title(f'Comparison of Activation Functions ({accuracy_type} Accuracy)')\n",
    "    ax.set_xlabel('Activation Function')\n",
    "    ax.set_ylabel(f'Validation Accuracy ({accuracy_type})')\n",
    "\n",
    "    plt.show()\n",
    "\n"
   ]
  },
  {
   "cell_type": "code",
   "execution_count": 175,
   "metadata": {},
   "outputs": [
    {
     "data": {
      "image/png": "[encoded data removed]",
      "text/plain": [
       "<Figure size 640x480 with 1 Axes>"
      ]
     },
     "metadata": {},
     "output_type": "display_data"
    },
    {
     "data": {
      "image/png": "[encoded data removed]",
      "text/plain": [
       "<Figure size 640x480 with 1 Axes>"
      ]
     },
     "metadata": {},
     "output_type": "display_data"
    }
   ],
   "source": [
    "# base activations \n",
    "from experiments.activation.acts import *\n",
    "folder_path = './checkpoint/dev_cifar100' \n",
    "repeats = 5  # Total number of repeats\n",
    "activation_fns = get_activations(return_type='list')\n",
    "activation_fns = [act.__class__.__name__ for act in activation_fns]\n",
    "# Load model checkpoints and gather accuracies\n",
    "accuracies_dict = load_model_checkpoints(folder_path, activation_fns, repeats)\n",
    "\n",
    "# Plot the boxplot for comparison\n",
    "plot_accuracies_boxplot(accuracies_dict,accuracy_type='top1')\n",
    "plot_accuracies_boxplot(accuracies_dict,accuracy_type='top5')\n"
   ]
  },
  {
   "cell_type": "code",
   "execution_count": 176,
   "metadata": {},
   "outputs": [
    {
     "data": {
      "text/html": [
       "<div>\n",
       "<style scoped>\n",
       "    .dataframe tbody tr th:only-of-type {\n",
       "        vertical-align: middle;\n",
       "    }\n",
       "\n",
       "    .dataframe tbody tr th {\n",
       "        vertical-align: top;\n",
       "    }\n",
       "\n",
       "    .dataframe thead th {\n",
       "        text-align: right;\n",
       "    }\n",
       "</style>\n",
       "<table border=\"1\" class=\"dataframe\">\n",
       "  <thead>\n",
       "    <tr style=\"text-align: right;\">\n",
       "      <th></th>\n",
       "      <th>Mean of top1</th>\n",
       "      <th>Std of top1</th>\n",
       "      <th>Mean of top5</th>\n",
       "      <th>Std of top5</th>\n",
       "      <th>Mean of beta</th>\n",
       "      <th>Std of beta</th>\n",
       "    </tr>\n",
       "  </thead>\n",
       "  <tbody>\n",
       "    <tr>\n",
       "      <th>SwishT</th>\n",
       "      <td>79.022</td>\n",
       "      <td>0.237857</td>\n",
       "      <td>94.248</td>\n",
       "      <td>0.107592</td>\n",
       "      <td>6.445544</td>\n",
       "      <td>0.018957</td>\n",
       "    </tr>\n",
       "    <tr>\n",
       "      <th>Swish</th>\n",
       "      <td>78.604</td>\n",
       "      <td>0.282248</td>\n",
       "      <td>94.180</td>\n",
       "      <td>0.144361</td>\n",
       "      <td>6.429610</td>\n",
       "      <td>0.021632</td>\n",
       "    </tr>\n",
       "    <tr>\n",
       "      <th>SliuT</th>\n",
       "      <td>78.222</td>\n",
       "      <td>0.449907</td>\n",
       "      <td>94.170</td>\n",
       "      <td>0.189526</td>\n",
       "      <td>-7.172208</td>\n",
       "      <td>0.041905</td>\n",
       "    </tr>\n",
       "    <tr>\n",
       "      <th>GELU</th>\n",
       "      <td>78.076</td>\n",
       "      <td>0.258735</td>\n",
       "      <td>93.918</td>\n",
       "      <td>0.169635</td>\n",
       "      <td>0.000000</td>\n",
       "      <td>0.000000</td>\n",
       "    </tr>\n",
       "    <tr>\n",
       "      <th>Twish</th>\n",
       "      <td>78.034</td>\n",
       "      <td>0.144859</td>\n",
       "      <td>93.730</td>\n",
       "      <td>0.110995</td>\n",
       "      <td>6.467925</td>\n",
       "      <td>0.011001</td>\n",
       "    </tr>\n",
       "    <tr>\n",
       "      <th>ASN</th>\n",
       "      <td>77.314</td>\n",
       "      <td>0.699989</td>\n",
       "      <td>93.354</td>\n",
       "      <td>0.236947</td>\n",
       "      <td>5.665387</td>\n",
       "      <td>0.027308</td>\n",
       "    </tr>\n",
       "    <tr>\n",
       "      <th>Mish</th>\n",
       "      <td>77.162</td>\n",
       "      <td>0.238529</td>\n",
       "      <td>93.534</td>\n",
       "      <td>0.144720</td>\n",
       "      <td>0.000000</td>\n",
       "      <td>0.000000</td>\n",
       "    </tr>\n",
       "    <tr>\n",
       "      <th>SiLU</th>\n",
       "      <td>76.818</td>\n",
       "      <td>0.235915</td>\n",
       "      <td>93.510</td>\n",
       "      <td>0.139714</td>\n",
       "      <td>0.000000</td>\n",
       "      <td>0.000000</td>\n",
       "    </tr>\n",
       "  </tbody>\n",
       "</table>\n",
       "</div>"
      ],
      "text/plain": [
       "        Mean of top1  Std of top1  Mean of top5  Std of top5  Mean of beta  \\\n",
       "SwishT        79.022     0.237857        94.248     0.107592      6.445544   \n",
       "Swish         78.604     0.282248        94.180     0.144361      6.429610   \n",
       "SliuT         78.222     0.449907        94.170     0.189526     -7.172208   \n",
       "GELU          78.076     0.258735        93.918     0.169635      0.000000   \n",
       "Twish         78.034     0.144859        93.730     0.110995      6.467925   \n",
       "ASN           77.314     0.699989        93.354     0.236947      5.665387   \n",
       "Mish          77.162     0.238529        93.534     0.144720      0.000000   \n",
       "SiLU          76.818     0.235915        93.510     0.139714      0.000000   \n",
       "\n",
       "        Std of beta  \n",
       "SwishT     0.018957  \n",
       "Swish      0.021632  \n",
       "SliuT      0.041905  \n",
       "GELU       0.000000  \n",
       "Twish      0.011001  \n",
       "ASN        0.027308  \n",
       "Mish       0.000000  \n",
       "SiLU       0.000000  "
      ]
     },
     "execution_count": 176,
     "metadata": {},
     "output_type": "execute_result"
    }
   ],
   "source": [
    "df = summarize_accuracies(accuracies_dict)\n",
    "df.sort_values(by='Mean of top1',ascending=False)"
   ]
  },
  {
   "cell_type": "code",
   "execution_count": 2,
   "metadata": {},
   "outputs": [
    {
     "ename": "ModuleNotFoundError",
     "evalue": "No module named 'experiments'",
     "output_type": "error",
     "traceback": [
      "\u001b[0;31m---------------------------------------------------------------------------\u001b[0m",
      "\u001b[0;31mModuleNotFoundError\u001b[0m                       Traceback (most recent call last)",
      "Cell \u001b[0;32mIn[2], line 2\u001b[0m\n\u001b[1;32m      1\u001b[0m \u001b[38;5;66;03m# Usage example # GLUs\u001b[39;00m\n\u001b[0;32m----> 2\u001b[0m \u001b[38;5;28;01mfrom\u001b[39;00m \u001b[38;5;21;01mexperiments\u001b[39;00m\u001b[38;5;21;01m.\u001b[39;00m\u001b[38;5;21;01mactivation\u001b[39;00m\u001b[38;5;21;01m.\u001b[39;00m\u001b[38;5;21;01mGLUs_v3\u001b[39;00m \u001b[38;5;28;01mimport\u001b[39;00m \u001b[38;5;241m*\u001b[39m\n\u001b[1;32m      3\u001b[0m folder_path \u001b[38;5;241m=\u001b[39m \u001b[38;5;124m'\u001b[39m\u001b[38;5;124m/workspace/pytorch_resnet_cifar10/checkpoint/dev_cifar10/save_resnet20\u001b[39m\u001b[38;5;124m'\u001b[39m \n\u001b[1;32m      4\u001b[0m repeats \u001b[38;5;241m=\u001b[39m \u001b[38;5;241m5\u001b[39m  \u001b[38;5;66;03m# Total number of repeats\u001b[39;00m\n",
      "\u001b[0;31mModuleNotFoundError\u001b[0m: No module named 'experiments'"
     ]
    }
   ],
   "source": [
    "# Usage example # GLUs\n",
    "from experiments.activation.GLUs_v3 import *\n",
    "folder_path = '../pytorch_resnet_cifar10/checkpoint/dev_cifar10/save_resnet20' \n",
    "repeats = 5  # Total number of repeats\n",
    "activation_fns = get_activations(return_type='list')\n",
    "activation_fns = [act.__name__ for act in activation_fns]\n",
    "# Load model checkpoints and gather accuracies\n",
    "accuracies_dict = load_model_checkpoints(folder_path, activation_fns, repeats)\n",
    "\n",
    "# Plot the boxplot for comparison\n",
    "plot_accuracies_boxplot(accuracies_dict,accuracy_type='top1')\n",
    "plot_accuracies_boxplot(accuracies_dict,accuracy_type='top5')\n"
   ]
  },
  {
   "cell_type": "code",
   "execution_count": 167,
   "metadata": {},
   "outputs": [
    {
     "data": {
      "text/html": [
       "<div>\n",
       "<style scoped>\n",
       "    .dataframe tbody tr th:only-of-type {\n",
       "        vertical-align: middle;\n",
       "    }\n",
       "\n",
       "    .dataframe tbody tr th {\n",
       "        vertical-align: top;\n",
       "    }\n",
       "\n",
       "    .dataframe thead th {\n",
       "        text-align: right;\n",
       "    }\n",
       "</style>\n",
       "<table border=\"1\" class=\"dataframe\">\n",
       "  <thead>\n",
       "    <tr style=\"text-align: right;\">\n",
       "      <th></th>\n",
       "      <th>Mean of top1</th>\n",
       "      <th>Std of top1</th>\n",
       "      <th>Mean of top5</th>\n",
       "      <th>Std of top5</th>\n",
       "      <th>Mean of beta</th>\n",
       "      <th>Std of beta</th>\n",
       "    </tr>\n",
       "  </thead>\n",
       "  <tbody>\n",
       "    <tr>\n",
       "      <th>ReGLU</th>\n",
       "      <td>94.570</td>\n",
       "      <td>0.101587</td>\n",
       "      <td>0.0</td>\n",
       "      <td>0.0</td>\n",
       "      <td>0.0</td>\n",
       "      <td>0.0</td>\n",
       "    </tr>\n",
       "    <tr>\n",
       "      <th>SwiGLU</th>\n",
       "      <td>92.902</td>\n",
       "      <td>0.225158</td>\n",
       "      <td>0.0</td>\n",
       "      <td>0.0</td>\n",
       "      <td>0.0</td>\n",
       "      <td>0.0</td>\n",
       "    </tr>\n",
       "    <tr>\n",
       "      <th>GelGLU</th>\n",
       "      <td>92.614</td>\n",
       "      <td>0.264015</td>\n",
       "      <td>0.0</td>\n",
       "      <td>0.0</td>\n",
       "      <td>0.0</td>\n",
       "      <td>0.0</td>\n",
       "    </tr>\n",
       "    <tr>\n",
       "      <th>SwiTGLU</th>\n",
       "      <td>92.374</td>\n",
       "      <td>0.220690</td>\n",
       "      <td>0.0</td>\n",
       "      <td>0.0</td>\n",
       "      <td>0.0</td>\n",
       "      <td>0.0</td>\n",
       "    </tr>\n",
       "    <tr>\n",
       "      <th>MiGLU</th>\n",
       "      <td>91.616</td>\n",
       "      <td>0.464655</td>\n",
       "      <td>0.0</td>\n",
       "      <td>0.0</td>\n",
       "      <td>0.0</td>\n",
       "      <td>0.0</td>\n",
       "    </tr>\n",
       "    <tr>\n",
       "      <th>GLU</th>\n",
       "      <td>81.600</td>\n",
       "      <td>0.436578</td>\n",
       "      <td>0.0</td>\n",
       "      <td>0.0</td>\n",
       "      <td>0.0</td>\n",
       "      <td>0.0</td>\n",
       "    </tr>\n",
       "  </tbody>\n",
       "</table>\n",
       "</div>"
      ],
      "text/plain": [
       "         Mean of top1  Std of top1  Mean of top5  Std of top5  Mean of beta  \\\n",
       "ReGLU          94.570     0.101587           0.0          0.0           0.0   \n",
       "SwiGLU         92.902     0.225158           0.0          0.0           0.0   \n",
       "GelGLU         92.614     0.264015           0.0          0.0           0.0   \n",
       "SwiTGLU        92.374     0.220690           0.0          0.0           0.0   \n",
       "MiGLU          91.616     0.464655           0.0          0.0           0.0   \n",
       "GLU            81.600     0.436578           0.0          0.0           0.0   \n",
       "\n",
       "         Std of beta  \n",
       "ReGLU            0.0  \n",
       "SwiGLU           0.0  \n",
       "GelGLU           0.0  \n",
       "SwiTGLU          0.0  \n",
       "MiGLU            0.0  \n",
       "GLU              0.0  "
      ]
     },
     "execution_count": 167,
     "metadata": {},
     "output_type": "execute_result"
    }
   ],
   "source": [
    "df = summarize_accuracies(accuracies_dict)\n",
    "df.sort_values(by='Mean of top1',ascending=False)"
   ]
  },
  {
   "cell_type": "code",
   "execution_count": 132,
   "metadata": {},
   "outputs": [
    {
     "data": {
      "text/plain": [
       "dict_keys(['net', 'acc', 'epoch', 'act', 'top1', 'top5'])"
      ]
     },
     "execution_count": 132,
     "metadata": {},
     "output_type": "execute_result"
    }
   ],
   "source": [
    "torch.load('./checkpoint/dev_GLUs_conv_cifar100/3_ckpt_resnet18_CIFAR100_SwiGLU_78.42.pth').keys()"
   ]
  },
  {
   "cell_type": "code",
   "execution_count": 133,
   "metadata": {},
   "outputs": [
    {
     "ename": "TypeError",
     "evalue": "load_model_checkpoints() takes 3 positional arguments but 4 were given",
     "output_type": "error",
     "traceback": [
      "\u001b[0;31m---------------------------------------------------------------------------\u001b[0m",
      "\u001b[0;31mTypeError\u001b[0m                                 Traceback (most recent call last)",
      "Cell \u001b[0;32mIn[133], line 3\u001b[0m\n\u001b[1;32m      1\u001b[0m \u001b[38;5;66;03m# Usage example\u001b[39;00m\n\u001b[1;32m      2\u001b[0m folder_path \u001b[38;5;241m=\u001b[39m \u001b[38;5;124m'\u001b[39m\u001b[38;5;124m./checkpoint/dev_GLUs_cifar100\u001b[39m\u001b[38;5;124m'\u001b[39m \n\u001b[0;32m----> 3\u001b[0m accuracies_dict \u001b[38;5;241m=\u001b[39m \u001b[43mload_model_checkpoints\u001b[49m\u001b[43m(\u001b[49m\u001b[43mfolder_path\u001b[49m\u001b[43m,\u001b[49m\u001b[43m \u001b[49m\u001b[43mactivation_fns\u001b[49m\u001b[43m,\u001b[49m\u001b[43m \u001b[49m\u001b[43mrepeats\u001b[49m\u001b[43m,\u001b[49m\u001b[38;5;124;43m'\u001b[39;49m\u001b[38;5;124;43mtop1\u001b[39;49m\u001b[38;5;124;43m'\u001b[39;49m\u001b[43m)\u001b[49m\n\u001b[1;32m      4\u001b[0m plot_accuracies_boxplot(accuracies_dict)\n\u001b[1;32m      5\u001b[0m accuracies_dict \u001b[38;5;241m=\u001b[39m load_model_checkpoints(folder_path, activation_fns, repeats,\u001b[38;5;124m'\u001b[39m\u001b[38;5;124mtop5\u001b[39m\u001b[38;5;124m'\u001b[39m)\n",
      "\u001b[0;31mTypeError\u001b[0m: load_model_checkpoints() takes 3 positional arguments but 4 were given"
     ]
    }
   ],
   "source": [
    "# Usage example\n",
    "folder_path = './checkpoint/dev_GLUs_cifar100' \n",
    "accuracies_dict = load_model_checkpoints(folder_path, activation_fns, repeats,'top1')\n",
    "plot_accuracies_boxplot(accuracies_dict)\n",
    "accuracies_dict = load_model_checkpoints(folder_path, activation_fns, repeats,'top5')\n",
    "plot_accuracies_boxplot(accuracies_dict)"
   ]
  },
  {
   "cell_type": "code",
   "execution_count": 122,
   "metadata": {},
   "outputs": [
    {
     "name": "stdout",
     "output_type": "stream",
     "text": [
      "2113\n",
      "torch.Size([1, 64, 5, 5])\n"
     ]
    }
   ],
   "source": [
    "import torch\n",
    "import torch.nn as nn\n",
    "import torch.nn.functional as F\n",
    "\n",
    "class BaseGLU(nn.Module):\n",
    "    def __init__(self, in_planes, planes, depth_wise=False):\n",
    "        super(BaseGLU, self).__init__()\n",
    "        self.adjust_channels = (in_planes % 2 != 0)\n",
    "        if self.adjust_channels:\n",
    "            in_planes += 1\n",
    "        if depth_wise:\n",
    "            self.conv_v = nn.Conv2d(in_planes // 2, in_planes // 2, kernel_size=1, groups=in_planes // 2, bias=False)\n",
    "            self.conv_w = nn.Conv2d(in_planes // 2, in_planes // 2, kernel_size=1, groups=in_planes // 2, bias=False)\n",
    "            self.conv_w2 = nn.Conv2d(in_planes // 2, in_planes, kernel_size=1, bias=False)\n",
    "        else:\n",
    "            self.conv_v = nn.Conv2d(in_planes // 2, planes, kernel_size=1, bias=False)\n",
    "            self.conv_w = nn.Conv2d(in_planes // 2, planes, kernel_size=1, bias=False)\n",
    "            self.conv_w2 = nn.Conv2d(planes, in_planes, kernel_size=1, bias=False)\n",
    "        self.initialize_weights()\n",
    "\n",
    "    def initialize_weights(self):\n",
    "        for m in self.modules():\n",
    "            if isinstance(m, nn.Conv2d):\n",
    "                nn.init.kaiming_normal_(m.weight)\n",
    "\n",
    "    def forward(self, x):\n",
    "        if self.adjust_channels:\n",
    "            # 채널별 평균 풀링을 사용하여 채널 추가\n",
    "            cwa = x.mean([1], keepdim=True)  \n",
    "            x = torch.cat([x, cwa], dim=1)  \n",
    "\n",
    "        x, gate = x.chunk(2, dim=1)\n",
    "        x = self.conv_v(x)\n",
    "        gate = self.conv_w(gate)\n",
    "        gate_activation = self.gate_activation(gate)\n",
    "        x = x * gate_activation\n",
    "        x = self.conv_w2(x)\n",
    "        return x\n",
    "\n",
    "    def gate_activation(self, gate):\n",
    "        raise NotImplementedError(\"This method should be overridden by subclasses.\")\n",
    "\n",
    "class TrainableSwiGLU(BaseGLU):\n",
    "    def __init__(self, in_planes, planes, depth_wise=False):\n",
    "        super(TrainableSwiGLU, self).__init__(in_planes, planes, depth_wise)\n",
    "        self.beta = nn.Parameter(torch.ones(1))  # Trainable beta parameter\n",
    "\n",
    "    def gate_activation(self, gate):\n",
    "        return gate * torch.sigmoid(self.beta * gate)\n",
    "\n",
    "# 사용 예\n",
    "trainable_swiglu = TrainableSwiGLU(in_planes=64, planes=128, depth_wise=True)\n",
    "print(count_parameters(trainable_swiglu))\n",
    "input_tensor = torch.randn(1, 64, 5, 5)\n",
    "output = trainable_swiglu(input_tensor)\n",
    "print(output.shape)\n"
   ]
  }
 ],
 "metadata": {
  "kernelspec": {
   "display_name": "Python 3",
   "language": "python",
   "name": "python3"
  },
  "language_info": {
   "codemirror_mode": {
    "name": "ipython",
    "version": 3
   },
   "file_extension": ".py",
   "mimetype": "text/x-python",
   "name": "python",
   "nbconvert_exporter": "python",
   "pygments_lexer": "ipython3",
   "version": "3.10.12"
  }
 },
 "nbformat": 4,
 "nbformat_minor": 2
}
